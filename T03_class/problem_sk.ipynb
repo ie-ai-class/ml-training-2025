{
 "cells": [
  {
   "cell_type": "markdown",
   "id": "ab5bf7d5",
   "metadata": {},
   "source": [
    "https://github.com/scikit-learn/scikit-learn/blob/main/sklearn/base.py#L153"
   ]
  },
  {
   "cell_type": "code",
   "execution_count": 1,
   "id": "0d91bd69",
   "metadata": {},
   "outputs": [],
   "source": [
    "# Compare to BaseEstimator version\n",
    "from sklearn.base import BaseEstimator"
   ]
  },
  {
   "cell_type": "code",
   "execution_count": 3,
   "id": "d825deb3",
   "metadata": {},
   "outputs": [],
   "source": [
    "class MyModel(BaseEstimator):\n",
    "    def __init__(self, param1=1, param2='default'):\n",
    "        self.param1 = param1\n",
    "        self.param2 = param2"
   ]
  },
  {
   "cell_type": "code",
   "execution_count": 5,
   "id": "a7b9d5a2",
   "metadata": {},
   "outputs": [],
   "source": [
    "model = MyModel(param1=10)"
   ]
  },
  {
   "cell_type": "code",
   "execution_count": 6,
   "id": "f54986fa",
   "metadata": {},
   "outputs": [
    {
     "data": {
      "text/plain": [
       "{'param1': 10, 'param2': 'default'}"
      ]
     },
     "execution_count": 6,
     "metadata": {},
     "output_type": "execute_result"
    }
   ],
   "source": [
    "model.get_params()"
   ]
  },
  {
   "cell_type": "code",
   "execution_count": null,
   "id": "72e5c3cb",
   "metadata": {},
   "outputs": [],
   "source": []
  }
 ],
 "metadata": {
  "kernelspec": {
   "display_name": ".venv",
   "language": "python",
   "name": "python3"
  },
  "language_info": {
   "codemirror_mode": {
    "name": "ipython",
    "version": 3
   },
   "file_extension": ".py",
   "mimetype": "text/x-python",
   "name": "python",
   "nbconvert_exporter": "python",
   "pygments_lexer": "ipython3",
   "version": "3.12.10"
  }
 },
 "nbformat": 4,
 "nbformat_minor": 5
}
