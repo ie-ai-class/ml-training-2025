{
 "cells": [
  {
   "cell_type": "markdown",
   "id": "56a9f589",
   "metadata": {},
   "source": [
    "# Class"
   ]
  },
  {
   "cell_type": "markdown",
   "id": "9880b8de",
   "metadata": {},
   "source": [
    "### Exercise 1: Creating a Basic Class and Instances\n",
    "\n",
    "- Define an empty class named `Animal` using the `pass` statement.\n",
    "- Then, create two separate instances of this class named `animal_1` and `animal_2`.\n"
   ]
  },
  {
   "cell_type": "code",
   "execution_count": null,
   "id": "87b15142",
   "metadata": {},
   "outputs": [],
   "source": [
    "class Animal:\n",
    "    pass\n",
    "\n",
    "\n",
    "# Usage\n",
    "animal_1 = Animal()\n",
    "animal_2 = Animal()"
   ]
  },
  {
   "cell_type": "markdown",
   "id": "5cb92d7b",
   "metadata": {},
   "source": [
    "### Exercise 2: Understanding Class Variables\n",
    "\n",
    "- Create a class called `Animal` with a class variable named `type` set to the string `\"animal\"`.\n",
    "- Then, create two instances of this class: `animal_1` and `animal_2`.\n",
    "- Finally, print the value of the `type` variable from both instances.\n"
   ]
  },
  {
   "cell_type": "code",
   "execution_count": null,
   "id": "d8febde1",
   "metadata": {},
   "outputs": [
    {
     "name": "stdout",
     "output_type": "stream",
     "text": [
      "animal\n",
      "animal\n"
     ]
    }
   ],
   "source": [
    "class Animal:\n",
    "    type = \"animal\"\n",
    "\n",
    "\n",
    "# Usage\n",
    "animal_1 = Animal()\n",
    "animal_2 = Animal()\n",
    "\n",
    "print(animal_1.type)\n",
    "print(animal_2.type)"
   ]
  },
  {
   "cell_type": "markdown",
   "id": "eedeb463",
   "metadata": {},
   "source": [
    "### Follow-Up Question: Modifying a Class Variable\n",
    "\n",
    "Given the previous class `Animal` with a class variable `type` initially set to `\"animal\"`, what happens if you change the class variable by assigning:\n",
    "\n",
    "```\n",
    "Animal.type = \"animal2\"\n",
    "```\n"
   ]
  },
  {
   "cell_type": "code",
   "execution_count": null,
   "id": "ae5f062c",
   "metadata": {},
   "outputs": [
    {
     "name": "stdout",
     "output_type": "stream",
     "text": [
      "animal2\n",
      "animal2\n"
     ]
    }
   ],
   "source": [
    "Animal.type = \"animal2\"\n",
    "print(animal_1.type)\n",
    "print(animal_2.type)"
   ]
  },
  {
   "cell_type": "markdown",
   "id": "f0fffee6",
   "metadata": {},
   "source": [
    "### Exercise 3: Using Instance Variables with the `__init__` Method\n",
    "\n",
    "Define a class named `Animal` that has an `__init__` method accepting a parameter `animal_type`. Inside the `__init__` method, assign `animal_type` to an instance variable named `type`.\n",
    "\n",
    "Then, create two instances of the `Animal` class:\n",
    "\n",
    "- `animal_1` with the type `\"dog\"`\n",
    "- `animal_2` with the type `\"cat\"`\n",
    "\n",
    "Finally, print the `type` attribute of both instances.\n"
   ]
  },
  {
   "cell_type": "code",
   "execution_count": null,
   "id": "4e46619f",
   "metadata": {},
   "outputs": [
    {
     "name": "stdout",
     "output_type": "stream",
     "text": [
      "dog\n",
      "cat\n"
     ]
    }
   ],
   "source": [
    "class Animal:\n",
    "    def __init__(self, animal_type):\n",
    "        self.type = animal_type\n",
    "\n",
    "\n",
    "# Usage\n",
    "animal_1 = Animal(\"dog\")\n",
    "animal_2 = Animal(\"cat\")\n",
    "\n",
    "print(animal_1.type)\n",
    "print(animal_2.type)"
   ]
  },
  {
   "cell_type": "markdown",
   "id": "db9a489e",
   "metadata": {},
   "source": [
    "### Exercise 4: Class and Instance Variables\n",
    "\n",
    "Create a class named `Animal` with the following requirements:\n",
    "\n",
    "1. Add a class variable called `classname` and set its value to `\"Animal\"`.\n",
    "2. Add an `__init__` method that takes a parameter `animal_type` and assigns it to an instance variable named `type`.\n",
    "3. Create two instances of the `Animal` class:\n",
    "   - `animal_1` with the type `\"dog\"`\n",
    "   - `animal_2` with the type `\"cat\"`\n",
    "4. Print the `classname` and `type` attributes for both instances, so the output is:\n"
   ]
  },
  {
   "cell_type": "code",
   "execution_count": null,
   "id": "cc111627",
   "metadata": {},
   "outputs": [
    {
     "name": "stdout",
     "output_type": "stream",
     "text": [
      "Animal\n",
      "dog\n",
      "Animal\n",
      "cat\n"
     ]
    }
   ],
   "source": [
    "class Animal:\n",
    "    classname = \"Animal\"\n",
    "\n",
    "    def __init__(self, animal_type):\n",
    "        self.type = animal_type\n",
    "\n",
    "\n",
    "# Usage\n",
    "animal_1 = Animal(\"dog\")\n",
    "animal_2 = Animal(\"cat\")\n",
    "\n",
    "print(animal_1.classname)\n",
    "print(animal_1.type)\n",
    "#\n",
    "print(animal_2.classname)\n",
    "print(animal_2.type)"
   ]
  },
  {
   "cell_type": "markdown",
   "id": "c87d7a8c",
   "metadata": {},
   "source": [
    "### Exercise 5: Class Methods and Instance Behavior\n",
    "\n",
    "Create a class `Animal` with the following requirements:\n",
    "\n",
    "1. **Class Variable**:\n",
    "\n",
    "   - A class variable `classname` initialized to `\"Animal\"`.\n",
    "\n",
    "2. **Initialization**:\n",
    "\n",
    "   - An `__init__` method that accepts `animal_type` and `animal_noise` as parameters. Assign these to instance variables `type` and `noise`.\n",
    "\n",
    "3. **Class Method**:\n",
    "\n",
    "   - A class method `change_class_name` that accepts a `name` parameter and updates the class variable `classname`.\n",
    "\n",
    "4. **Instance Method**:\n",
    "   - A method `make_sound` that prints the `classname`, `type`, and `noise` of the instance in one line (e.g., `Animal dog whoof`).\n",
    "\n",
    "**Tasks**:\n",
    "\n",
    "- Create two instances:\n",
    "  - `animal_1` with `type=\"dog\"` and `noise=\"woof\"`\n",
    "  - `animal_2` with `type=\"cat\"` and `noise=\"meaw\"`\n",
    "- Call `make_sound` on both instances.\n",
    "- Use `change_class_name` to update the class variable to `\"Animal2\"`.\n",
    "- Call `make_sound` again on both instances to observe the change.\n",
    "\n",
    "**Expected Output**:\n"
   ]
  },
  {
   "cell_type": "code",
   "execution_count": 1,
   "id": "9d2595aa",
   "metadata": {},
   "outputs": [
    {
     "name": "stdout",
     "output_type": "stream",
     "text": [
      "Animal dog whoof\n",
      "Animal cat meaw\n",
      "Animal2 dog whoof\n",
      "Animal2 cat meaw\n"
     ]
    }
   ],
   "source": [
    "class Animal:\n",
    "    classname = \"Animal\"\n",
    "\n",
    "    def __init__(self, animal_type, animal_noise):\n",
    "        self.type = animal_type\n",
    "        self.noise = animal_noise\n",
    "\n",
    "    @classmethod\n",
    "    def change_class_name(cls, name):\n",
    "        cls.classname = name\n",
    "\n",
    "    def make_sound(self):\n",
    "        print(self.classname, self.type, self.noise)\n",
    "\n",
    "\n",
    "# Usage\n",
    "animal_1 = Animal(animal_type=\"dog\", animal_noise=\"woof\")\n",
    "animal_2 = Animal(animal_type=\"cat\", animal_noise=\"meaw\")\n",
    "\n",
    "animal_1.make_sound()\n",
    "animal_2.make_sound()\n",
    "\n",
    "Animal.change_class_name(\"Animal2\")\n",
    "\n",
    "animal_1.make_sound()\n",
    "animal_2.make_sound()"
   ]
  },
  {
   "cell_type": "markdown",
   "id": "54678ee9",
   "metadata": {},
   "source": [
    "### Exercise 6: Implementing the `__call__` Method in a Class\n",
    "\n",
    "Create a class called `Animal` with the following features:\n",
    "\n",
    "1. The `__init__` method should accept two parameters: `animal_type` and `animal_noise`.\n",
    "\n",
    "   - Assign these to instance variables `type` and `noise`.\n",
    "\n",
    "2. Implement the special method `__call__` so that:\n",
    "\n",
    "   - It accepts an optional parameter `repeat` (default value is `1`).\n",
    "   - When an `Animal` instance is called like a function, it should print the animal's `type` followed by its `noise` repeated `repeat` times (with a space after each noise).\n",
    "\n",
    "3. Create an `Animal` instance named `animal_1` with `type=\"dog\"` and `noise=\"whoof\"`.\n",
    "\n",
    "4. Demonstrate the following calls:\n",
    "   - `animal_1()`\n",
    "   - `animal_1(2)`\n",
    "   - `animal_1(3)`\n"
   ]
  },
  {
   "cell_type": "code",
   "execution_count": null,
   "id": "6f489397",
   "metadata": {},
   "outputs": [
    {
     "name": "stdout",
     "output_type": "stream",
     "text": [
      "dog whoof \n",
      "dog whoof whoof \n",
      "dog whoof whoof whoof \n"
     ]
    }
   ],
   "source": [
    "class Animal:\n",
    "    def __init__(self, animal_type, animal_noise):\n",
    "        self.type = animal_type\n",
    "        self.noise = animal_noise\n",
    "\n",
    "    def __call__(self, repeat=1):\n",
    "        print(self.type, (self.noise + \" \") * repeat)\n",
    "\n",
    "\n",
    "# Usage\n",
    "animal_1 = Animal(animal_type=\"dog\", animal_noise=\"whoof\")\n",
    "animal_1()\n",
    "animal_1(2)\n",
    "animal_1(3)"
   ]
  },
  {
   "cell_type": "code",
   "execution_count": null,
   "id": "f4a8a8ad",
   "metadata": {},
   "outputs": [],
   "source": [
    "class Animal:\n",
    "    def __init__(\n",
    "        self, animal_type, animal_noise, animal_fetch_item, animal_scratch_item\n",
    "    ):\n",
    "        self.type = animal_type\n",
    "        self.noise = animal_noise\n",
    "        self.fetch_item = animal_fetch_item\n",
    "        self.scratch_item = animal_scratch_item\n",
    "\n",
    "    def make_sound(self):\n",
    "        print(self.noise)\n",
    "\n",
    "    def fetch(self):\n",
    "        print(self.type, self.fetch_item)\n",
    "\n",
    "    def scratch(self):\n",
    "        print(self.type, self.scratch_item)\n",
    "\n",
    "\n",
    "# Usage\n",
    "dog = Animal(\n",
    "    animal_type=\"dog\",\n",
    "    animal_noise=\"woof\",\n",
    "    animal_fetch_item=\"bone\",\n",
    "    animal_scratch_item=\"\",\n",
    ")\n",
    "dog.fetch()\n",
    "\n",
    "cat = Animal(\n",
    "    animal_type=\"cat\",\n",
    "    animal_noise=\"meaw\",\n",
    "    animal_fetch_item=\"\",\n",
    "    animal_scratch_item=\"sofa\",\n",
    ")\n",
    "cat.scratch()"
   ]
  },
  {
   "cell_type": "code",
   "execution_count": 7,
   "id": "fbd9073c",
   "metadata": {},
   "outputs": [
    {
     "name": "stdout",
     "output_type": "stream",
     "text": [
      "dog bone\n",
      "cat sofa\n"
     ]
    }
   ],
   "source": [
    "class Animal:\n",
    "    def make_sound(self):\n",
    "        print(self.noise)\n",
    "\n",
    "\n",
    "class Dog(Animal):\n",
    "    def __init__(self, animal_type, animal_noise, animal_fetch_item):\n",
    "        self.type = animal_type\n",
    "        self.noise = animal_noise\n",
    "        self.fetch_item = animal_fetch_item\n",
    "\n",
    "    def fetch(self):\n",
    "        print(self.type, self.fetch_item)\n",
    "\n",
    "\n",
    "class Cat(Animal):\n",
    "    def __init__(self, animal_type, animal_noise, animal_scratch_item):\n",
    "        self.type = animal_type\n",
    "        self.noise = animal_noise\n",
    "        self.scratch_item = animal_scratch_item\n",
    "\n",
    "    def scratch(self):\n",
    "        print(self.type, self.scratch_item)\n",
    "\n",
    "\n",
    "# Usage\n",
    "dog = Dog(animal_type=\"dog\", animal_noise=\"woof\", animal_fetch_item=\"bone\")\n",
    "dog.fetch()\n",
    "\n",
    "cat = Cat(animal_type=\"cat\", animal_noise=\"meaw\", animal_scratch_item=\"sofa\")\n",
    "cat.scratch()"
   ]
  },
  {
   "cell_type": "code",
   "execution_count": 9,
   "id": "197e50dc",
   "metadata": {},
   "outputs": [
    {
     "name": "stdout",
     "output_type": "stream",
     "text": [
      "woof\n",
      "dog bone\n",
      "meaw\n",
      "cat sofa\n"
     ]
    }
   ],
   "source": [
    "class Animal:\n",
    "    def make_sound(self):\n",
    "        print(self.noise)\n",
    "\n",
    "\n",
    "class Dog(Animal):\n",
    "    def __init__(self, animal_type, animal_noise, animal_fetch_item):\n",
    "        self.type = animal_type\n",
    "        self.noise = animal_noise\n",
    "        self.fetch_item = animal_fetch_item\n",
    "\n",
    "    def fetch(self):\n",
    "        print(self.type, self.fetch_item)\n",
    "\n",
    "\n",
    "class Cat(Animal):\n",
    "    def __init__(self, animal_type, animal_noise, animal_scratch_item):\n",
    "        self.type = animal_type\n",
    "        self.noise = animal_noise\n",
    "        self.scratch_item = animal_scratch_item\n",
    "\n",
    "    def scratch(self):\n",
    "        print(self.type, self.scratch_item)\n",
    "\n",
    "\n",
    "# Usage\n",
    "dog = Dog(animal_type=\"dog\", animal_noise=\"woof\", animal_fetch_item=\"bone\")\n",
    "dog.make_sound()\n",
    "dog.fetch()\n",
    "\n",
    "cat = Cat(animal_type=\"cat\", animal_noise=\"meaw\", animal_scratch_item=\"sofa\")\n",
    "cat.make_sound()\n",
    "cat.scratch()"
   ]
  },
  {
   "cell_type": "code",
   "execution_count": 12,
   "id": "c71cd998",
   "metadata": {},
   "outputs": [
    {
     "name": "stdout",
     "output_type": "stream",
     "text": [
      "woof\n",
      "dog bone\n",
      "meaw\n",
      "cat sofa\n"
     ]
    }
   ],
   "source": [
    "class Animal:\n",
    "    def __init__(self, animal_type, animal_noise):\n",
    "        self.type = animal_type\n",
    "        self.noise = animal_noise\n",
    "\n",
    "    def make_sound(self):\n",
    "        print(self.noise)\n",
    "\n",
    "\n",
    "class Dog(Animal):\n",
    "    def __init__(self, animal_type, animal_noise, animal_fetch_item):\n",
    "        super().__init__(animal_type, animal_noise)\n",
    "        self.fetch_item = animal_fetch_item\n",
    "\n",
    "    def fetch(self):\n",
    "        print(self.type, self.fetch_item)\n",
    "\n",
    "\n",
    "class Cat(Animal):\n",
    "    def __init__(self, animal_type, animal_noise, animal_scratch_item):\n",
    "        super().__init__(animal_type, animal_noise)\n",
    "        self.scratch_item = animal_scratch_item\n",
    "\n",
    "    def scratch(self):\n",
    "        print(self.type, self.scratch_item)\n",
    "\n",
    "\n",
    "# Usage\n",
    "dog = Dog(animal_type=\"dog\", animal_noise=\"woof\", animal_fetch_item=\"bone\")\n",
    "dog.make_sound()\n",
    "dog.fetch()\n",
    "\n",
    "cat = Cat(animal_type=\"cat\", animal_noise=\"meaw\", animal_scratch_item=\"sofa\")\n",
    "cat.make_sound()\n",
    "cat.scratch()"
   ]
  },
  {
   "cell_type": "code",
   "execution_count": null,
   "id": "d3d27ae8",
   "metadata": {},
   "outputs": [],
   "source": []
  }
 ],
 "metadata": {
  "kernelspec": {
   "display_name": ".venv",
   "language": "python",
   "name": "python3"
  },
  "language_info": {
   "codemirror_mode": {
    "name": "ipython",
    "version": 3
   },
   "file_extension": ".py",
   "mimetype": "text/x-python",
   "name": "python",
   "nbconvert_exporter": "python",
   "pygments_lexer": "ipython3",
   "version": "3.12.10"
  }
 },
 "nbformat": 4,
 "nbformat_minor": 5
}
