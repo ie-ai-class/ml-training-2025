{
 "cells": [
  {
   "cell_type": "code",
   "execution_count": 2,
   "id": "87b15142",
   "metadata": {},
   "outputs": [],
   "source": [
    "# Define a class named Animal that does not have any attributes or methods.\n",
    "# Then, create two different instances of this class named animal_1 and animal_2.\n",
    "\n",
    "\n",
    "class Animal:\n",
    "    pass\n",
    "\n",
    "\n",
    "animal_1 = Animal()\n",
    "animal_2 = Animal()"
   ]
  },
  {
   "cell_type": "code",
   "execution_count": 3,
   "id": "d8febde1",
   "metadata": {},
   "outputs": [
    {
     "name": "stdout",
     "output_type": "stream",
     "text": [
      "animal\n",
      "animal\n"
     ]
    }
   ],
   "source": [
    "# Create a class called Animal with a class variable named type set to the string \"animal\".\n",
    "# Create two instances of this class: animal_1 and animal_2. Print the value of the type variable for both instances.\n",
    "\n",
    "\n",
    "class Animal:\n",
    "    type = \"animal\"\n",
    "\n",
    "\n",
    "animal_1 = Animal()\n",
    "animal_2 = Animal()\n",
    "\n",
    "print(animal_1.type)\n",
    "print(animal_2.type)"
   ]
  },
  {
   "cell_type": "code",
   "execution_count": 4,
   "id": "ae5f062c",
   "metadata": {},
   "outputs": [
    {
     "name": "stdout",
     "output_type": "stream",
     "text": [
      "animal2\n",
      "animal2\n"
     ]
    }
   ],
   "source": [
    "# What will be printed when you run: Animal.type = \"animal2\"?\n",
    "\n",
    "Animal.type = \"animal2\"\n",
    "print(animal_1.type)\n",
    "print(animal_2.type)"
   ]
  },
  {
   "cell_type": "code",
   "execution_count": 5,
   "id": "4e46619f",
   "metadata": {},
   "outputs": [
    {
     "name": "stdout",
     "output_type": "stream",
     "text": [
      "dog\n",
      "cat\n"
     ]
    }
   ],
   "source": [
    "# Create a class named Animal that uses the __init__ method to accept a parameter called animal_type when creating a new object. Inside the __init__ method, assign animal_type to an instance variable named type.\n",
    "# Then, create two instances:\n",
    "# - animal_1 with the type \"dog\"\n",
    "# - animal_2 with the type \"cat\"\n",
    "# Finally, print the type attribute for both instances.\n",
    "\n",
    "\n",
    "class Animal:\n",
    "    def __init__(self, animal_type):\n",
    "        self.type = animal_type\n",
    "\n",
    "\n",
    "animal_1 = Animal(\"dog\")\n",
    "animal_2 = Animal(\"cat\")\n",
    "\n",
    "print(animal_1.type)\n",
    "print(animal_2.type)"
   ]
  },
  {
   "cell_type": "markdown",
   "id": "db9a489e",
   "metadata": {},
   "source": [
    "## Exercise: Class and Instance Variables\n",
    "\n",
    "Create a class named `Animal` with the following requirements:\n",
    "\n",
    "1. Add a class variable called `classname` and set its value to `\"Animal\"`.\n",
    "2. Add an `__init__` method that takes a parameter `animal_type` and assigns it to an instance variable named `type`.\n",
    "3. Create two instances of the `Animal` class:\n",
    "   - `animal_1` with the type `\"dog\"`\n",
    "   - `animal_2` with the type `\"cat\"`\n",
    "4. Print the `classname` and `type` attributes for both instances, so the output is:"
   ]
  },
  {
   "cell_type": "code",
   "execution_count": null,
   "id": "cc111627",
   "metadata": {},
   "outputs": [
    {
     "name": "stdout",
     "output_type": "stream",
     "text": [
      "Animal\n",
      "dog\n",
      "Animal\n",
      "cat\n"
     ]
    }
   ],
   "source": [
    "class Animal:\n",
    "    classname = \"Animal\"\n",
    "\n",
    "    def __init__(self, animal_type):\n",
    "        self.type = animal_type\n",
    "\n",
    "\n",
    "animal_1 = Animal(\"dog\")\n",
    "animal_2 = Animal(\"cat\")\n",
    "\n",
    "print(animal_1.classname)\n",
    "print(animal_1.type)\n",
    "#\n",
    "print(animal_2.classname)\n",
    "print(animal_2.type)"
   ]
  },
  {
   "cell_type": "markdown",
   "id": "c87d7a8c",
   "metadata": {},
   "source": [
    "## Exercise: Class Methods and Instance Behavior\n",
    "\n",
    "Create a class `Animal` with the following requirements:\n",
    "\n",
    "1. **Class Variable**:  \n",
    "   - A class variable `classname` initialized to `\"Animal\"`.\n",
    "\n",
    "2. **Initialization**:  \n",
    "   - An `__init__` method that accepts `animal_type` and `animal_noise` as parameters. Assign these to instance variables `type` and `noise`.\n",
    "\n",
    "3. **Class Method**:  \n",
    "   - A class method `change_class_name` that accepts a `name` parameter and updates the class variable `classname`.\n",
    "\n",
    "4. **Instance Method**:  \n",
    "   - A method `make_sound` that prints the `classname`, `type`, and `noise` of the instance in one line (e.g., `Animal dog whoof`).\n",
    "\n",
    "**Tasks**:  \n",
    "- Create two instances:  \n",
    "  - `animal_1` with `type=\"dog\"` and `noise=\"whoof\"`  \n",
    "  - `animal_2` with `type=\"cat\"` and `noise=\"meaw\"`  \n",
    "- Call `make_sound` on both instances.  \n",
    "- Use `change_class_name` to update the class variable to `\"Animal2\"`.  \n",
    "- Call `make_sound` again on both instances to observe the change.\n",
    "\n",
    "**Expected Output**:  "
   ]
  },
  {
   "cell_type": "code",
   "execution_count": 10,
   "id": "9d2595aa",
   "metadata": {},
   "outputs": [
    {
     "name": "stdout",
     "output_type": "stream",
     "text": [
      "Animal dog whoof\n",
      "Animal cat meaw\n",
      "Animal2 dog whoof\n",
      "Animal2 cat meaw\n"
     ]
    }
   ],
   "source": [
    "class Animal:\n",
    "    classname = \"Animal\"\n",
    "\n",
    "    def __init__(self, animal_type, animal_noise):\n",
    "        self.type = animal_type\n",
    "        self.noise = animal_noise\n",
    "\n",
    "    @classmethod\n",
    "    def change_class_name(cls, name):\n",
    "        cls.classname = name\n",
    "\n",
    "    def make_sound(self):\n",
    "        print(self.classname, self.type, self.noise)\n",
    "\n",
    "\n",
    "animal_1 = Animal(animal_type=\"dog\", animal_noise=\"whoof\")\n",
    "animal_2 = Animal(animal_type=\"cat\", animal_noise=\"meaw\")\n",
    "\n",
    "animal_1.make_sound()\n",
    "animal_2.make_sound()\n",
    "\n",
    "Animal.change_class_name(\"Animal2\")\n",
    "\n",
    "animal_1.make_sound()\n",
    "animal_2.make_sound()"
   ]
  },
  {
   "cell_type": "markdown",
   "id": "54678ee9",
   "metadata": {},
   "source": [
    "## Exercise: Implementing the `__call__` Method in a Class\n",
    "\n",
    "**Question:**\n",
    "\n",
    "Create a class called `Animal` with the following features:\n",
    "\n",
    "1. The `__init__` method should accept two parameters: `animal_type` and `animal_noise`.  \n",
    "   - Assign these to instance variables `type` and `noise`.\n",
    "\n",
    "2. Implement the special method `__call__` so that:\n",
    "   - It accepts an optional parameter `repeat` (default value is `1`).\n",
    "   - When an `Animal` instance is called like a function, it should print the animal's `type` followed by its `noise` repeated `repeat` times (with a space after each noise).\n",
    "\n",
    "3. Create an `Animal` instance named `animal_1` with `type=\"dog\"` and `noise=\"whoof\"`.\n",
    "\n",
    "4. Demonstrate the following calls:\n",
    "   - `animal_1()`\n",
    "   - `animal_1(2)`\n",
    "   - `animal_1(3)`"
   ]
  },
  {
   "cell_type": "code",
   "execution_count": 15,
   "id": "6f489397",
   "metadata": {},
   "outputs": [
    {
     "name": "stdout",
     "output_type": "stream",
     "text": [
      "dog whoof \n",
      "dog whoof whoof \n",
      "dog whoof whoof whoof \n"
     ]
    }
   ],
   "source": [
    "class Animal:\n",
    "    def __init__(self, animal_type, animal_noise):\n",
    "        self.type = animal_type\n",
    "        self.noise = animal_noise\n",
    "\n",
    "    def __call__(self, repeat=1):\n",
    "        print(self.type, (self.noise + \" \") * repeat)\n",
    "\n",
    "\n",
    "animal_1 = Animal(animal_type=\"dog\", animal_noise=\"whoof\")\n",
    "animal_1()\n",
    "animal_1(2)\n",
    "animal_1(3)"
   ]
  },
  {
   "cell_type": "code",
   "execution_count": null,
   "id": "f4a8a8ad",
   "metadata": {},
   "outputs": [],
   "source": [
    "# Base class (Parent)\n",
    "class Animal:\n",
    "    def __init__(self, name):\n",
    "        self.name = name\n",
    "\n",
    "    def speak(self):\n",
    "        print(f\"{self.name} makes a sound.\")\n",
    "\n",
    "\n",
    "# Derived class (Child)\n",
    "class Dog(Animal):\n",
    "    def speak(self):\n",
    "        print(f\"{self.name} says Woof!\")\n",
    "\n",
    "\n",
    "# Usage\n",
    "animal = Animal(\"GenericAnimal\")\n",
    "animal.speak()  # Output: GenericAnimal makes a sound."
   ]
  },
  {
   "cell_type": "code",
   "execution_count": null,
   "id": "afd93dac",
   "metadata": {},
   "outputs": [],
   "source": [
    "class Person:\n",
    "    def __init__(self, fname, lname):\n",
    "        self.firstname = fname\n",
    "        self.lastname = lname\n",
    "\n",
    "    def show(self):\n",
    "        print(f\"Name: {self.firstname} {self.lastname}\")\n",
    "\n",
    "\n",
    "class Student(Person):\n",
    "    def __init__(self, fname, lname, graduationyear):\n",
    "        super().__init__(fname, lname)  # Call the parent class constructor\n",
    "        self.graduationyear = graduationyear\n",
    "\n",
    "    def show(self):\n",
    "        super().show()  # Optionally call the parent method\n",
    "        print(f\"Graduation Year: {self.graduationyear}\")\n",
    "\n",
    "\n",
    "# Example usage\n",
    "student = Student(\"Alice\", \"Smith\", 2025)\n",
    "student.show()"
   ]
  }
 ],
 "metadata": {
  "kernelspec": {
   "display_name": ".venv",
   "language": "python",
   "name": "python3"
  },
  "language_info": {
   "codemirror_mode": {
    "name": "ipython",
    "version": 3
   },
   "file_extension": ".py",
   "mimetype": "text/x-python",
   "name": "python",
   "nbconvert_exporter": "python",
   "pygments_lexer": "ipython3",
   "version": "3.12.9"
  }
 },
 "nbformat": 4,
 "nbformat_minor": 5
}
