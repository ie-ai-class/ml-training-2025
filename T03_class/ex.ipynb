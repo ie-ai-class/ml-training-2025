{
 "cells": [
  {
   "cell_type": "code",
   "execution_count": null,
   "id": "6e110080",
   "metadata": {},
   "outputs": [],
   "source": [
    "class Person:\n",
    "    def __init__(self, name, age):\n",
    "        self.name = name\n",
    "        self.age = age\n",
    "\n",
    "# Creating an object of the Person class\n",
    "person1 = Person(\"Alice\", 30)\n",
    "print(person1.name)  # Output: Alice\n",
    "print(person1.age)   # Output: 30"
   ]
  },
  {
   "cell_type": "code",
   "execution_count": null,
   "id": "3ce71e90",
   "metadata": {},
   "outputs": [],
   "source": [
    "class Student:\n",
    "    # Class variable: shared by all instances\n",
    "    school_name = \"ABC School\"\n",
    "\n",
    "    def __init__(self, name, age):\n",
    "        # Instance variables: unique to each instance\n",
    "        self.name = name\n",
    "        self.age = age\n",
    "\n",
    "# Create two Student objects\n",
    "student1 = Student(\"Alice\", 15)\n",
    "student2 = Student(\"Bob\", 16)\n",
    "\n",
    "print(student1.school_name)  # Output: ABC School (class variable)\n",
    "print(student2.school_name)  # Output: ABC School (class variable)\n",
    "print(student1.name)         # Output: Alice (instance variable)\n",
    "print(student2.name)         # Output: Bob (instance variable)"
   ]
  },
  {
   "cell_type": "code",
   "execution_count": null,
   "id": "2d04f5e6",
   "metadata": {},
   "outputs": [],
   "source": [
    "class Student:\n",
    "    school_name = \"ABC School\"  # class variable\n",
    "\n",
    "    def __init__(self, name, age):\n",
    "        self.name = name      # instance variable\n",
    "        self.age = age\n",
    "\n",
    "    # Instance method: operates on an instance of the class\n",
    "    def show(self):\n",
    "        print(f\"Student: {self.name}, Age: {self.age}, School: {self.school_name}\")\n",
    "\n",
    "    # Class method: operates on the class, not on an instance\n",
    "    @classmethod\n",
    "    def change_school(cls, new_name):\n",
    "        print(f\"Previous School name: {cls.school_name}\")\n",
    "        cls.school_name = new_name\n",
    "        print(f\"School name changed to: {cls.school_name}\")\n",
    "\n",
    "# Usage\n",
    "student1 = Student(\"Jessa\", 12)\n",
    "student1.show()                  # Calls instance method\n",
    "Student.change_school(\"XYZ School\")  # Calls class method\n",
    "student1.show()                  # Shows updated school name"
   ]
  },
  {
   "cell_type": "code",
   "execution_count": null,
   "id": "6f489397",
   "metadata": {},
   "outputs": [],
   "source": [
    "class Adder:\n",
    "    def __init__(self, increment):\n",
    "        self.increment = increment\n",
    "    def __call__(self, value):\n",
    "        return value + self.increment\n",
    "\n",
    "add_five = Adder(5)\n",
    "print(add_five(10))        # Output: 15\n",
    "print(callable(add_five))  # Output: True"
   ]
  },
  {
   "cell_type": "code",
   "execution_count": null,
   "id": "f4a8a8ad",
   "metadata": {},
   "outputs": [],
   "source": [
    "# Base class (Parent)\n",
    "class Animal:\n",
    "    def __init__(self, name):\n",
    "        self.name = name\n",
    "\n",
    "    def speak(self):\n",
    "        print(f\"{self.name} makes a sound.\")\n",
    "\n",
    "# Derived class (Child)\n",
    "class Dog(Animal):\n",
    "    def speak(self):\n",
    "        print(f\"{self.name} says Woof!\")\n",
    "\n",
    "# Usage\n",
    "animal = Animal(\"GenericAnimal\")\n",
    "animal.speak()  # Output: GenericAnimal makes a sound."
   ]
  },
  {
   "cell_type": "code",
   "execution_count": null,
   "id": "afd93dac",
   "metadata": {},
   "outputs": [],
   "source": [
    "class Person:\n",
    "    def __init__(self, fname, lname):\n",
    "        self.firstname = fname\n",
    "        self.lastname = lname\n",
    "\n",
    "    def show(self):\n",
    "        print(f\"Name: {self.firstname} {self.lastname}\")\n",
    "\n",
    "class Student(Person):\n",
    "    def __init__(self, fname, lname, graduationyear):\n",
    "        super().__init__(fname, lname)  # Call the parent class constructor\n",
    "        self.graduationyear = graduationyear\n",
    "\n",
    "    def show(self):\n",
    "        super().show()  # Optionally call the parent method\n",
    "        print(f\"Graduation Year: {self.graduationyear}\")\n",
    "\n",
    "# Example usage\n",
    "student = Student(\"Alice\", \"Smith\", 2025)\n",
    "student.show()"
   ]
  }
 ],
 "metadata": {
  "language_info": {
   "name": "python"
  }
 },
 "nbformat": 4,
 "nbformat_minor": 5
}
