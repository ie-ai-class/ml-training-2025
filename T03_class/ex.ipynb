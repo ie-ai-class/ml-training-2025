{
 "cells": [
  {
   "cell_type": "code",
   "execution_count": 2,
   "id": "87b15142",
   "metadata": {},
   "outputs": [],
   "source": [
    "# Define a class named Animal that does not have any attributes or methods.\n",
    "# Then, create two different instances of this class named animal_1 and animal_2.\n",
    "\n",
    "\n",
    "class Animal:\n",
    "    pass\n",
    "\n",
    "\n",
    "animal_1 = Animal()\n",
    "animal_2 = Animal()"
   ]
  },
  {
   "cell_type": "code",
   "execution_count": 3,
   "id": "d8febde1",
   "metadata": {},
   "outputs": [
    {
     "name": "stdout",
     "output_type": "stream",
     "text": [
      "animal\n",
      "animal\n"
     ]
    }
   ],
   "source": [
    "# Create a class called Animal with a class variable named type set to the string \"animal\".\n",
    "# Create two instances of this class: animal_1 and animal_2. Print the value of the type variable for both instances.\n",
    "\n",
    "\n",
    "class Animal:\n",
    "    type = \"animal\"\n",
    "\n",
    "\n",
    "animal_1 = Animal()\n",
    "animal_2 = Animal()\n",
    "\n",
    "print(animal_1.type)\n",
    "print(animal_2.type)"
   ]
  },
  {
   "cell_type": "code",
   "execution_count": 4,
   "id": "ae5f062c",
   "metadata": {},
   "outputs": [
    {
     "name": "stdout",
     "output_type": "stream",
     "text": [
      "animal2\n",
      "animal2\n"
     ]
    }
   ],
   "source": [
    "# What will be printed when you run: Animal.type = \"animal2\"?\n",
    "\n",
    "Animal.type = \"animal2\"\n",
    "print(animal_1.type)\n",
    "print(animal_2.type)"
   ]
  },
  {
   "cell_type": "code",
   "execution_count": 5,
   "id": "4e46619f",
   "metadata": {},
   "outputs": [
    {
     "name": "stdout",
     "output_type": "stream",
     "text": [
      "dog\n",
      "cat\n"
     ]
    }
   ],
   "source": [
    "# Create a class named Animal that uses the __init__ method to accept a parameter called animal_type when creating a new object. Inside the __init__ method, assign animal_type to an instance variable named type.\n",
    "# Then, create two instances:\n",
    "# - animal_1 with the type \"dog\"\n",
    "# - animal_2 with the type \"cat\"\n",
    "# Finally, print the type attribute for both instances.\n",
    "\n",
    "\n",
    "class Animal:\n",
    "    def __init__(self, animal_type):\n",
    "        self.type = animal_type\n",
    "\n",
    "\n",
    "animal_1 = Animal(\"dog\")\n",
    "animal_2 = Animal(\"cat\")\n",
    "\n",
    "print(animal_1.type)\n",
    "print(animal_2.type)"
   ]
  },
  {
   "cell_type": "markdown",
   "id": "db9a489e",
   "metadata": {},
   "source": [
    "Create a class named `Animal` with the following requirements:\n",
    "\n",
    "1. Add a class variable called `classname` and set its value to `\"Animal\"`.\n",
    "2. Add an `__init__` method that takes a parameter `animal_type` and assigns it to an instance variable named `type`.\n",
    "3. Create two instances of the `Animal` class:\n",
    "   - `animal_1` with the type `\"dog\"`\n",
    "   - `animal_2` with the type `\"cat\"`\n",
    "4. Print the `classname` and `type` attributes for both instances, so the output is:"
   ]
  },
  {
   "cell_type": "code",
   "execution_count": null,
   "id": "cc111627",
   "metadata": {},
   "outputs": [
    {
     "name": "stdout",
     "output_type": "stream",
     "text": [
      "Animal\n",
      "dog\n",
      "Animal\n",
      "cat\n"
     ]
    }
   ],
   "source": [
    "class Animal:\n",
    "    classname = \"Animal\"\n",
    "\n",
    "    def __init__(self, animal_type):\n",
    "        self.type = animal_type\n",
    "\n",
    "\n",
    "animal_1 = Animal(\"dog\")\n",
    "animal_2 = Animal(\"cat\")\n",
    "\n",
    "print(animal_1.classname)\n",
    "print(animal_1.type)\n",
    "#\n",
    "print(animal_2.classname)\n",
    "print(animal_2.type)"
   ]
  },
  {
   "cell_type": "markdown",
   "id": "c87d7a8c",
   "metadata": {},
   "source": [
    "## Exercise: Class Methods and Instance Behavior\n",
    "\n",
    "Create a class `Animal` with the following requirements:\n",
    "\n",
    "1. **Class Variable**:  \n",
    "   - A class variable `classname` initialized to `\"Animal\"`.\n",
    "\n",
    "2. **Initialization**:  \n",
    "   - An `__init__` method that accepts `animal_type` and `animal_noise` as parameters. Assign these to instance variables `type` and `noise`.\n",
    "\n",
    "3. **Class Method**:  \n",
    "   - A class method `change_class_name` that accepts a `name` parameter and updates the class variable `classname`.\n",
    "\n",
    "4. **Instance Method**:  \n",
    "   - A method `make_sound` that prints the `classname`, `type`, and `noise` of the instance in one line (e.g., `Animal dog whoof`).\n",
    "\n",
    "**Tasks**:  \n",
    "- Create two instances:  \n",
    "  - `animal_1` with `type=\"dog\"` and `noise=\"whoof\"`  \n",
    "  - `animal_2` with `type=\"cat\"` and `noise=\"meaw\"`  \n",
    "- Call `make_sound` on both instances.  \n",
    "- Use `change_class_name` to update the class variable to `\"Animal2\"`.  \n",
    "- Call `make_sound` again on both instances to observe the change.\n",
    "\n",
    "**Expected Output**:  "
   ]
  },
  {
   "cell_type": "code",
   "execution_count": 10,
   "id": "9d2595aa",
   "metadata": {},
   "outputs": [
    {
     "name": "stdout",
     "output_type": "stream",
     "text": [
      "Animal dog whoof\n",
      "Animal cat meaw\n",
      "Animal2 dog whoof\n",
      "Animal2 cat meaw\n"
     ]
    }
   ],
   "source": [
    "class Animal:\n",
    "    classname = \"Animal\"\n",
    "\n",
    "    def __init__(self, animal_type, animal_noise):\n",
    "        self.type = animal_type\n",
    "        self.noise = animal_noise\n",
    "\n",
    "    @classmethod\n",
    "    def change_class_name(cls, name):\n",
    "        cls.classname = name\n",
    "\n",
    "    def make_sound(self):\n",
    "        print(self.classname, self.type, self.noise)\n",
    "\n",
    "\n",
    "animal_1 = Animal(animal_type=\"dog\", animal_noise=\"whoof\")\n",
    "animal_2 = Animal(animal_type=\"cat\", animal_noise=\"meaw\")\n",
    "\n",
    "animal_1.make_sound()\n",
    "animal_2.make_sound()\n",
    "\n",
    "Animal.change_class_name(\"Animal2\")\n",
    "\n",
    "animal_1.make_sound()\n",
    "animal_2.make_sound()"
   ]
  },
  {
   "cell_type": "code",
   "execution_count": 8,
   "id": "d88c10c3",
   "metadata": {},
   "outputs": [
    {
     "ename": "NameError",
     "evalue": "name 'a1' is not defined",
     "output_type": "error",
     "traceback": [
      "\u001b[31m---------------------------------------------------------------------------\u001b[39m",
      "\u001b[31mNameError\u001b[39m                                 Traceback (most recent call last)",
      "\u001b[36mCell\u001b[39m\u001b[36m \u001b[39m\u001b[32mIn[8]\u001b[39m\u001b[32m, line 1\u001b[39m\n\u001b[32m----> \u001b[39m\u001b[32m1\u001b[39m \u001b[43ma1\u001b[49m.classname\n",
      "\u001b[31mNameError\u001b[39m: name 'a1' is not defined"
     ]
    }
   ],
   "source": [
    "a1.classname"
   ]
  },
  {
   "cell_type": "code",
   "execution_count": null,
   "id": "6e110080",
   "metadata": {},
   "outputs": [],
   "source": [
    "class Person:\n",
    "    def __init__(self, name, age):\n",
    "        self.name = name\n",
    "        self.age = age\n",
    "\n",
    "\n",
    "# Creating an object of the Person class\n",
    "person1 = Person(\"Alice\", 30)\n",
    "print(person1.name)  # Output: Alice\n",
    "print(person1.age)  # Output: 30"
   ]
  },
  {
   "cell_type": "code",
   "execution_count": null,
   "id": "3ce71e90",
   "metadata": {},
   "outputs": [],
   "source": [
    "class Student:\n",
    "    # Class variable: shared by all instances\n",
    "    school_name = \"ABC School\"\n",
    "\n",
    "    def __init__(self, name, age):\n",
    "        # Instance variables: unique to each instance\n",
    "        self.name = name\n",
    "        self.age = age\n",
    "\n",
    "\n",
    "# Create two Student objects\n",
    "student1 = Student(\"Alice\", 15)\n",
    "student2 = Student(\"Bob\", 16)\n",
    "\n",
    "print(student1.school_name)  # Output: ABC School (class variable)\n",
    "print(student2.school_name)  # Output: ABC School (class variable)\n",
    "print(student1.name)  # Output: Alice (instance variable)\n",
    "print(student2.name)  # Output: Bob (instance variable)"
   ]
  },
  {
   "cell_type": "code",
   "execution_count": null,
   "id": "2d04f5e6",
   "metadata": {},
   "outputs": [],
   "source": [
    "class Student:\n",
    "    school_name = \"ABC School\"  # class variable\n",
    "\n",
    "    def __init__(self, name, age):\n",
    "        self.name = name  # instance variable\n",
    "        self.age = age\n",
    "\n",
    "    # Instance method: operates on an instance of the class\n",
    "    def show(self):\n",
    "        print(f\"Student: {self.name}, Age: {self.age}, School: {self.school_name}\")\n",
    "\n",
    "    # Class method: operates on the class, not on an instance\n",
    "    @classmethod\n",
    "    def change_school(cls, new_name):\n",
    "        print(f\"Previous School name: {cls.school_name}\")\n",
    "        cls.school_name = new_name\n",
    "        print(f\"School name changed to: {cls.school_name}\")\n",
    "\n",
    "\n",
    "# Usage\n",
    "student1 = Student(\"Jessa\", 12)\n",
    "student1.show()  # Calls instance method\n",
    "Student.change_school(\"XYZ School\")  # Calls class method\n",
    "student1.show()  # Shows updated school name"
   ]
  },
  {
   "cell_type": "code",
   "execution_count": null,
   "id": "6f489397",
   "metadata": {},
   "outputs": [],
   "source": [
    "class Adder:\n",
    "    def __init__(self, increment):\n",
    "        self.increment = increment\n",
    "\n",
    "    def __call__(self, value):\n",
    "        return value + self.increment\n",
    "\n",
    "\n",
    "add_five = Adder(5)\n",
    "print(add_five(10))  # Output: 15\n",
    "print(callable(add_five))  # Output: True"
   ]
  },
  {
   "cell_type": "code",
   "execution_count": null,
   "id": "f4a8a8ad",
   "metadata": {},
   "outputs": [],
   "source": [
    "# Base class (Parent)\n",
    "class Animal:\n",
    "    def __init__(self, name):\n",
    "        self.name = name\n",
    "\n",
    "    def speak(self):\n",
    "        print(f\"{self.name} makes a sound.\")\n",
    "\n",
    "\n",
    "# Derived class (Child)\n",
    "class Dog(Animal):\n",
    "    def speak(self):\n",
    "        print(f\"{self.name} says Woof!\")\n",
    "\n",
    "\n",
    "# Usage\n",
    "animal = Animal(\"GenericAnimal\")\n",
    "animal.speak()  # Output: GenericAnimal makes a sound."
   ]
  },
  {
   "cell_type": "code",
   "execution_count": null,
   "id": "afd93dac",
   "metadata": {},
   "outputs": [],
   "source": [
    "class Person:\n",
    "    def __init__(self, fname, lname):\n",
    "        self.firstname = fname\n",
    "        self.lastname = lname\n",
    "\n",
    "    def show(self):\n",
    "        print(f\"Name: {self.firstname} {self.lastname}\")\n",
    "\n",
    "\n",
    "class Student(Person):\n",
    "    def __init__(self, fname, lname, graduationyear):\n",
    "        super().__init__(fname, lname)  # Call the parent class constructor\n",
    "        self.graduationyear = graduationyear\n",
    "\n",
    "    def show(self):\n",
    "        super().show()  # Optionally call the parent method\n",
    "        print(f\"Graduation Year: {self.graduationyear}\")\n",
    "\n",
    "\n",
    "# Example usage\n",
    "student = Student(\"Alice\", \"Smith\", 2025)\n",
    "student.show()"
   ]
  }
 ],
 "metadata": {
  "kernelspec": {
   "display_name": ".venv",
   "language": "python",
   "name": "python3"
  },
  "language_info": {
   "codemirror_mode": {
    "name": "ipython",
    "version": 3
   },
   "file_extension": ".py",
   "mimetype": "text/x-python",
   "name": "python",
   "nbconvert_exporter": "python",
   "pygments_lexer": "ipython3",
   "version": "3.12.9"
  }
 },
 "nbformat": 4,
 "nbformat_minor": 5
}
