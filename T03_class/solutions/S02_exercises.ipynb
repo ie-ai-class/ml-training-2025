{
 "cells": [
  {
   "cell_type": "markdown",
   "id": "74be8524",
   "metadata": {},
   "source": [
    "# Exercises"
   ]
  },
  {
   "cell_type": "markdown",
   "id": "8fa00058",
   "metadata": {},
   "source": [
    "### Exercise 1\n",
    "\n",
    "Create two classes, `Animal` and `Dog`, with the following requirements:\n",
    "\n",
    "1. **`Animal` Class**:  \n",
    "   - An `__init__` method that accepts `name` and `age`, and initializes them as instance variables.  \n",
    "   - A **class method** `describe_class()` that prints `\"This is the Animal class.\"`.  \n",
    "   - A **method** `speak()` that prints `\"Some generic animal sound\"`.  \n",
    "\n",
    "2. **`Dog` Subclass** (inherits from `Animal`):  \n",
    "   - An `__init__` method that accepts `name`, `age`, and `breed`:  \n",
    "     - Uses `super()` to initialize `name` and `age` from the parent class.  \n",
    "     - Adds a new instance variable `breed`.  \n",
    "   - Override the `speak()` method to print `\"Woof!\"`.  \n",
    "   - Implement the `__call__` method to print:  \n",
    "     `Dog's name: {name}, Age: {age}, Breed: {breed}`.  "
   ]
  },
  {
   "cell_type": "code",
   "execution_count": 1,
   "id": "b1e53cca",
   "metadata": {},
   "outputs": [
    {
     "name": "stdout",
     "output_type": "stream",
     "text": [
      "This is the Animal class.\n",
      "Dog's name: Tom, Age: 20, Breed: Thai Breed\n",
      "Woof!\n"
     ]
    }
   ],
   "source": [
    "class Animal:\n",
    "    def __init__(self, name, age):\n",
    "        self.name = name\n",
    "        self.age = age\n",
    "\n",
    "    @classmethod\n",
    "    def describe_class(cls):\n",
    "        print(\"This is the Animal class.\")\n",
    "\n",
    "    def speak(self):\n",
    "        print(\"Some generic animal sound\")\n",
    "\n",
    "\n",
    "class Dog(Animal):\n",
    "    def __init__(self, name, age, breed):\n",
    "        super().__init__(name, age)\n",
    "        self.breed = breed\n",
    "\n",
    "    def __call__(self):\n",
    "        print(f\"Dog's name: {self.name}, Age: {self.age}, Breed: {self.breed}\")\n",
    "\n",
    "    def speak(self):\n",
    "        print(\"Woof!\")\n",
    "\n",
    "# Usage\n",
    "dog = Dog(name=\"Tom\", age=20, breed=\"Thai Breed\")\n",
    "dog.describe_class()\n",
    "dog()\n",
    "dog.speak()"
   ]
  },
  {
   "cell_type": "markdown",
   "id": "2a19058c",
   "metadata": {},
   "source": [
    "### Exercise 2\n",
    "\n",
    "Create a class system for employee management\n",
    "\n",
    "1. **Base Class `Employee`**\n",
    "\n",
    "   - **Class Variable**: `total_employees` (track all created employees)\n",
    "   - **Instance Variables**: `name`, `employee_id`\n",
    "   - **Methods**:\n",
    "     - `__init__`: Initialize name/ID, update `total_employees`\n",
    "     - `display_info`: Return \"ID: [X] Name: [Y]\"\n",
    "     - `__call__`: Return \"Employee [Y] ([X]) is present!\"\n",
    "     - `@classmethod get_headcount`: Return total employees\n",
    "\n",
    "2. **Subclass `Manager`**\n",
    "   - Inherits from `Employee`\n",
    "   - **New Instance Variable**: `team_size`\n",
    "   - **Override** `display_info` to include team size\n",
    "\n",
    "---\n",
    "\n",
    "## Requirements\n",
    "\n",
    "```python\n",
    "# Test Code (should work when implemented)\n",
    "if name == \"main\":\n",
    "# Create objects\n",
    "emp1 = Employee(\"Alice\", 1001)\n",
    "mgr1 = Manager(\"Bob\", 2001, 5)\n",
    "\n",
    "# Test methods\n",
    "print(emp1.display_info())  # ID: 1001 Name: Alice\n",
    "print(mgr1.display_info())  # ID: 2001 Name: Bob | Team: 5\n",
    "\n",
    "# Test callable\n",
    "print(emp1())  # Employee Alice (1001) is present!\n",
    "\n",
    "# Test class method\n",
    "print(Employee.get_headcount())  # 2\n",
    "\n",
    "# Test inheritance\n",
    "print(isinstance(mgr1, Employee))  # True\n",
    "```"
   ]
  },
  {
   "cell_type": "code",
   "execution_count": 2,
   "id": "db42e08d",
   "metadata": {},
   "outputs": [
    {
     "name": "stdout",
     "output_type": "stream",
     "text": [
      "ID: 1001 Name: Alice\n",
      "ID: 2001 Name: Bob | Team: 5\n",
      "Employee Alice (1001) is present!\n",
      "2\n",
      "True\n"
     ]
    }
   ],
   "source": [
    "class Employee:\n",
    "    total_employees = 0  # Class variable\n",
    "\n",
    "    def __init__(self, name, employee_id):\n",
    "        self.name = name  # Instance variables\n",
    "        self.employee_id = employee_id\n",
    "        Employee.total_employees += 1\n",
    "\n",
    "    def display_info(self):  # Instance method\n",
    "        return f\"ID: {self.employee_id} Name: {self.name}\"\n",
    "\n",
    "    def __call__(self):  # Callable implementation\n",
    "        return f\"Employee {self.name} ({self.employee_id}) is present!\"\n",
    "\n",
    "    @classmethod\n",
    "    def get_headcount(cls):  # Class method\n",
    "        return cls.total_employees\n",
    "\n",
    "    # Bonus: Alternative constructor\n",
    "    @classmethod\n",
    "    def create_from_dict(cls, data_dict):\n",
    "        return cls(data_dict[\"name\"], data_dict[\"id\"])\n",
    "\n",
    "\n",
    "class Manager(Employee):  # Inheritance\n",
    "    def __init__(self, name, employee_id, team_size):\n",
    "        super().__init__(name, employee_id)\n",
    "        self.team_size = team_size  # New instance variable\n",
    "\n",
    "    def display_info(self):  # Method overriding\n",
    "        base_info = super().display_info()\n",
    "        return f\"{base_info} | Team: {self.team_size}\"\n",
    "\n",
    "\n",
    "# Usage\n",
    "emp1 = Employee(\"Alice\", 1001)\n",
    "mgr1 = Manager(\"Bob\", 2001, 5)\n",
    "\n",
    "print(emp1.display_info())\n",
    "print(mgr1.display_info())\n",
    "print(emp1())\n",
    "print(Employee.get_headcount())\n",
    "print(isinstance(mgr1, Employee))"
   ]
  }
 ],
 "metadata": {
  "kernelspec": {
   "display_name": ".venv",
   "language": "python",
   "name": "python3"
  },
  "language_info": {
   "codemirror_mode": {
    "name": "ipython",
    "version": 3
   },
   "file_extension": ".py",
   "mimetype": "text/x-python",
   "name": "python",
   "nbconvert_exporter": "python",
   "pygments_lexer": "ipython3",
   "version": "3.12.10"
  }
 },
 "nbformat": 4,
 "nbformat_minor": 5
}
