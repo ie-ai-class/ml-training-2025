{
 "cells": [
  {
   "cell_type": "markdown",
   "id": "8fa00058",
   "metadata": {},
   "source": [
    "Create a simple class named `Animal`.\n",
    "\n",
    "1. Add a constructor that takes name and age as parameters and initializes them.\n",
    "2. Add a `class method` describe_class that prints \"This is the Animal class.\"\n",
    "3. Create a subclass named `Dog` that inherits from `Animal`.\n",
    "4. In the `Dog` class, override the constructor to also take a `breed` parameter.\n",
    "5. Use the `super()` method to call the parent class constructor.\n",
    "6. Add a callable method `__call__` in the Dog class that prints the dog's details.\n",
    "7. Override a method named speak in the `Dog` class that prints \"Woof!\""
   ]
  },
  {
   "cell_type": "code",
   "execution_count": 1,
   "id": "b1e53cca",
   "metadata": {},
   "outputs": [],
   "source": [
    "class Animal:\n",
    "    def __init__(self, name, age):\n",
    "        self.name = name\n",
    "        self.age = age\n",
    "\n",
    "    @classmethod\n",
    "    def describe_class(cls):\n",
    "        print(\"This is the Animal class.\")\n",
    "\n",
    "    def speak(self):\n",
    "        print(\"Some generic animal sound\")\n",
    "\n",
    "\n",
    "class Dog(Animal):\n",
    "    def __init__(self, name, age, breed):\n",
    "        super().__init__(name, age)\n",
    "        self.breed = breed\n",
    "\n",
    "    def __call__(self):\n",
    "        print(f\"Dog's name: {self.name}, Age: {self.age}, Breed: {self.breed}\")\n",
    "\n",
    "    def speak(self):\n",
    "        print(\"Woof!\")\n"
   ]
  }
 ],
 "metadata": {
  "kernelspec": {
   "display_name": ".venv",
   "language": "python",
   "name": "python3"
  },
  "language_info": {
   "codemirror_mode": {
    "name": "ipython",
    "version": 3
   },
   "file_extension": ".py",
   "mimetype": "text/x-python",
   "name": "python",
   "nbconvert_exporter": "python",
   "pygments_lexer": "ipython3",
   "version": "3.12.10"
  }
 },
 "nbformat": 4,
 "nbformat_minor": 5
}
