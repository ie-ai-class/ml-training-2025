{
 "cells": [
  {
   "cell_type": "markdown",
   "id": "56a9f589",
   "metadata": {},
   "source": [
    "# Python Class\n"
   ]
  },
  {
   "cell_type": "markdown",
   "id": "9880b8de",
   "metadata": {},
   "source": [
    "### Round 1: Basic Class and Instances\n",
    "\n",
    "- Define an empty class named `Animal` using the `pass` statement.\n",
    "- Then, create two separate instances of this class named `animal_1` and `animal_2`.\n"
   ]
  },
  {
   "cell_type": "code",
   "execution_count": null,
   "id": "87b15142",
   "metadata": {},
   "outputs": [],
   "source": []
  },
  {
   "cell_type": "markdown",
   "id": "5cb92d7b",
   "metadata": {},
   "source": [
    "### Round 2: Class Attribute\n",
    "\n",
    "- Create a class called `Animal` with a class variable named `type` set to the string `\"animal\"`.\n",
    "- Then, create two instances of this class: `animal_1` and `animal_2`.\n",
    "- Finally, print the value of the `type` variable from both instances.\n"
   ]
  },
  {
   "cell_type": "code",
   "execution_count": null,
   "id": "d8febde1",
   "metadata": {},
   "outputs": [],
   "source": []
  },
  {
   "cell_type": "markdown",
   "id": "eedeb463",
   "metadata": {},
   "source": [
    "### Round 2: (Follow-Up): Modifying a Class Variable\n",
    "\n",
    "Given the previous class `Animal` with a class variable `type` initially set to `\"animal\"`, what happens if you change the class variable by assigning:\n",
    "\n",
    "```\n",
    "Animal.type = \"animal2\"\n",
    "```\n"
   ]
  },
  {
   "cell_type": "code",
   "execution_count": null,
   "id": "ae5f062c",
   "metadata": {},
   "outputs": [],
   "source": []
  },
  {
   "cell_type": "markdown",
   "id": "f0fffee6",
   "metadata": {},
   "source": [
    "### Round 3: Instance Attributes\n",
    "\n",
    "Define a class named `Animal` that has an `__init__` method accepting a parameter `animal_type`. Inside the `__init__` method, assign `animal_type` to an instance variable named `type`.\n",
    "\n",
    "Then, create two instances of the `Animal` class:\n",
    "\n",
    "- `animal_1` with the type `\"dog\"`\n",
    "- `animal_2` with the type `\"cat\"`\n",
    "\n",
    "Finally, print the `type` attribute of both instances.\n"
   ]
  },
  {
   "cell_type": "code",
   "execution_count": null,
   "id": "4e46619f",
   "metadata": {},
   "outputs": [],
   "source": []
  },
  {
   "cell_type": "markdown",
   "id": "db9a489e",
   "metadata": {},
   "source": [
    "### Round 4: Class and Instance Attributes\n",
    "\n",
    "Create a class named `Animal` with the following requirements:\n",
    "\n",
    "1. Add a class variable called `classname` and set its value to `\"Animal\"`.\n",
    "2. Add an `__init__` method that takes a parameter `animal_type` and assigns it to an instance variable named `type`.\n",
    "3. Create two instances of the `Animal` class:\n",
    "   - `animal_1` with the type `\"dog\"`\n",
    "   - `animal_2` with the type `\"cat\"`\n",
    "4. Print the `classname` and `type` attributes for both instances, so the output is:\n"
   ]
  },
  {
   "cell_type": "code",
   "execution_count": null,
   "id": "cc111627",
   "metadata": {},
   "outputs": [],
   "source": []
  },
  {
   "cell_type": "markdown",
   "id": "c87d7a8c",
   "metadata": {},
   "source": [
    "### Round 5: Class Methods and Instance Methods\n",
    "\n",
    "Create a class `Animal` with the following requirements:\n",
    "\n",
    "1. **Class Variable**:\n",
    "\n",
    "   - A class variable `classname` initialized to `\"Animal\"`.\n",
    "\n",
    "2. **Initialization**:\n",
    "\n",
    "   - An `__init__` method that accepts `animal_type` and `animal_noise` as parameters. Assign these to instance variables `type` and `noise`.\n",
    "\n",
    "3. **Class Method**:\n",
    "\n",
    "   - A class method `change_class_name` that accepts a `name` parameter and updates the class variable `classname`.\n",
    "\n",
    "4. **Instance Method**:\n",
    "   - A method `make_sound` that prints the `classname`, `type`, and `noise` of the instance in one line (e.g., `Animal dog whoof`).\n",
    "\n",
    "**Tasks**:\n",
    "\n",
    "- Create two instances:\n",
    "  - `animal_1` with `type=\"dog\"` and `noise=\"woof\"`\n",
    "  - `animal_2` with `type=\"cat\"` and `noise=\"meaw\"`\n",
    "- Call `make_sound` on both instances.\n",
    "- Use `change_class_name` to update the class variable to `\"Animal2\"`.\n",
    "- Call `make_sound` again on both instances to observe the change.\n",
    "\n",
    "**Expected Output**:\n"
   ]
  },
  {
   "cell_type": "code",
   "execution_count": null,
   "id": "9d2595aa",
   "metadata": {},
   "outputs": [],
   "source": []
  },
  {
   "cell_type": "markdown",
   "id": "54678ee9",
   "metadata": {},
   "source": [
    "### Round 6: `__call__` Method in a Class\n",
    "\n",
    "Create a class called `Animal` with the following features:\n",
    "\n",
    "1. The `__init__` method should accept two parameters: `animal_type` and `animal_noise`.\n",
    "\n",
    "   - Assign these to instance variables `type` and `noise`.\n",
    "\n",
    "2. Implement the special method `__call__` so that:\n",
    "\n",
    "   - It accepts an optional parameter `repeat` (default value is `1`).\n",
    "   - When an `Animal` instance is called like a function, it should print the animal's `type` followed by its `noise` repeated `repeat` times (with a space after each noise).\n",
    "\n",
    "3. Create an `Animal` instance named `animal_1` with `type=\"dog\"` and `noise=\"whoof\"`.\n",
    "\n",
    "4. Demonstrate the following calls:\n",
    "   - `animal_1()`\n",
    "   - `animal_1(2)`\n",
    "   - `animal_1(3)`\n"
   ]
  },
  {
   "cell_type": "code",
   "execution_count": null,
   "id": "6f489397",
   "metadata": {},
   "outputs": [],
   "source": []
  },
  {
   "cell_type": "markdown",
   "id": "13a909a8",
   "metadata": {},
   "source": [
    "### Round 7 - Motivation for Inheritance\n"
   ]
  },
  {
   "cell_type": "code",
   "execution_count": null,
   "id": "f4a8a8ad",
   "metadata": {},
   "outputs": [],
   "source": []
  },
  {
   "cell_type": "markdown",
   "id": "5affdd3f",
   "metadata": {},
   "source": [
    "### Round 8 - Inheritance (1st Attempt)\n"
   ]
  },
  {
   "cell_type": "code",
   "execution_count": null,
   "id": "fbd9073c",
   "metadata": {},
   "outputs": [],
   "source": []
  },
  {
   "cell_type": "markdown",
   "id": "c0866ae5",
   "metadata": {},
   "source": [
    "### Round 9 - Inheritance (Final)\n"
   ]
  },
  {
   "cell_type": "code",
   "execution_count": null,
   "id": "c71cd998",
   "metadata": {},
   "outputs": [],
   "source": []
  }
 ],
 "metadata": {
  "kernelspec": {
   "display_name": ".venv",
   "language": "python",
   "name": "python3"
  },
  "language_info": {
   "codemirror_mode": {
    "name": "ipython",
    "version": 3
   },
   "file_extension": ".py",
   "mimetype": "text/x-python",
   "name": "python",
   "nbconvert_exporter": "python",
   "pygments_lexer": "ipython3",
   "version": "3.12.10"
  }
 },
 "nbformat": 4,
 "nbformat_minor": 5
}
