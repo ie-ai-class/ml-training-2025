{
 "cells": [
  {
   "cell_type": "markdown",
   "id": "a9f7bbb5",
   "metadata": {},
   "source": [
    "# Subclassing scikit-learn Estimators\n",
    "\n",
    "Subclassing in scikit-learn allows you to extend or customize the behavior of existing estimators (such as classifiers, regressors, or transformers) while maintaining compatibility with scikit-learn’s API, including pipelines and model selection utilities.\n",
    "\n",
    "- Doc\n",
    "  - https://scikit-learn.org/stable/modules/generated/sklearn.base.BaseEstimator.html\n",
    "- Source code\n",
    "  - https://github.com/scikit-learn/scikit-learn/blob/main/sklearn/base.py#L153\n"
   ]
  },
  {
   "cell_type": "code",
   "execution_count": 1,
   "id": "0d91bd69",
   "metadata": {},
   "outputs": [],
   "source": [
    "from sklearn.base import BaseEstimator\n",
    "import numpy as np"
   ]
  },
  {
   "cell_type": "markdown",
   "id": "1f39e277",
   "metadata": {},
   "source": [
    "### Implementing a custom machine learning model class \n",
    "\n",
    "1. Inherit from `sklearn.base.BaseEstimator`.\n",
    "2. Have two parameters, `param1` and `param2`, settable via the constructor.\n",
    "3. Implement a `fit` method that:\n",
    "    - Takes input arrays `X` and target `y`.\n",
    "    - Sets an attribute `is_fitted` to `True`.\n",
    "    - Returns the result of the calculation: `(X + y) * (self.param1 + self.param2)`.\n",
    "4. Allow getting and setting parameters using `get_params()` and `set_params()` methods, as per scikit-learn standards."
   ]
  },
  {
   "cell_type": "code",
   "execution_count": null,
   "id": "d825deb3",
   "metadata": {},
   "outputs": [],
   "source": []
  }
 ],
 "metadata": {
  "kernelspec": {
   "display_name": ".venv",
   "language": "python",
   "name": "python3"
  },
  "language_info": {
   "codemirror_mode": {
    "name": "ipython",
    "version": 3
   },
   "file_extension": ".py",
   "mimetype": "text/x-python",
   "name": "python",
   "nbconvert_exporter": "python",
   "pygments_lexer": "ipython3",
   "version": "3.12.10"
  }
 },
 "nbformat": 4,
 "nbformat_minor": 5
}
