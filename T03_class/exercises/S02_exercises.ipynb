{
 "cells": [
  {
   "cell_type": "markdown",
   "id": "74be8524",
   "metadata": {},
   "source": [
    "# Exercises"
   ]
  },
  {
   "cell_type": "markdown",
   "id": "8fa00058",
   "metadata": {},
   "source": [
    "### Exercise 1\n",
    "\n",
    "Create two classes, `Animal` and `Dog`, with the following requirements:\n",
    "\n",
    "1. **`Animal` Class**:  \n",
    "   - An `__init__` method that accepts `name` and `age`, and initializes them as instance variables.  \n",
    "   - A **class method** `describe_class()` that prints `\"This is the Animal class.\"`.  \n",
    "   - A **method** `speak()` that prints `\"Some generic animal sound\"`.  \n",
    "\n",
    "2. **`Dog` Subclass** (inherits from `Animal`):  \n",
    "   - An `__init__` method that accepts `name`, `age`, and `breed`:  \n",
    "     - Uses `super()` to initialize `name` and `age` from the parent class.  \n",
    "     - Adds a new instance variable `breed`.  \n",
    "   - Override the `speak()` method to print `\"Woof!\"`.  \n",
    "   - Implement the `__call__` method to print:  \n",
    "     `Dog's name: {name}, Age: {age}, Breed: {breed}`.  "
   ]
  },
  {
   "cell_type": "code",
   "execution_count": null,
   "id": "b1e53cca",
   "metadata": {},
   "outputs": [],
   "source": []
  },
  {
   "cell_type": "markdown",
   "id": "2a19058c",
   "metadata": {},
   "source": [
    "### Exercise 2\n",
    "\n",
    "Create a class system for employee management\n",
    "\n",
    "1. **Base Class `Employee`**\n",
    "\n",
    "   - **Class Variable**: `total_employees` (track all created employees)\n",
    "   - **Instance Variables**: `name`, `employee_id`\n",
    "   - **Methods**:\n",
    "     - `__init__`: Initialize name/ID, update `total_employees`\n",
    "     - `display_info`: Return \"ID: [X] Name: [Y]\"\n",
    "     - `__call__`: Return \"Employee [Y] ([X]) is present!\"\n",
    "     - `@classmethod get_headcount`: Return total employees\n",
    "\n",
    "2. **Subclass `Manager`**\n",
    "   - Inherits from `Employee`\n",
    "   - **New Instance Variable**: `team_size`\n",
    "   - **Override** `display_info` to include team size\n",
    "\n",
    "---\n",
    "\n",
    "## Requirements\n",
    "\n",
    "```python\n",
    "# Test Code (should work when implemented)\n",
    "if name == \"main\":\n",
    "# Create objects\n",
    "emp1 = Employee(\"Alice\", 1001)\n",
    "mgr1 = Manager(\"Bob\", 2001, 5)\n",
    "\n",
    "# Test methods\n",
    "print(emp1.display_info())  # ID: 1001 Name: Alice\n",
    "print(mgr1.display_info())  # ID: 2001 Name: Bob | Team: 5\n",
    "\n",
    "# Test callable\n",
    "print(emp1())  # Employee Alice (1001) is present!\n",
    "\n",
    "# Test class method\n",
    "print(Employee.get_headcount())  # 2\n",
    "\n",
    "# Test inheritance\n",
    "print(isinstance(mgr1, Employee))  # True\n",
    "```"
   ]
  },
  {
   "cell_type": "code",
   "execution_count": null,
   "id": "db42e08d",
   "metadata": {},
   "outputs": [],
   "source": []
  }
 ],
 "metadata": {
  "kernelspec": {
   "display_name": ".venv",
   "language": "python",
   "name": "python3"
  },
  "language_info": {
   "codemirror_mode": {
    "name": "ipython",
    "version": 3
   },
   "file_extension": ".py",
   "mimetype": "text/x-python",
   "name": "python",
   "nbconvert_exporter": "python",
   "pygments_lexer": "ipython3",
   "version": "3.12.10"
  }
 },
 "nbformat": 4,
 "nbformat_minor": 5
}
