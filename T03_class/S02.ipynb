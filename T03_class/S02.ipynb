{
 "cells": [
  {
   "cell_type": "markdown",
   "id": "74be8524",
   "metadata": {},
   "source": [
    "# Class (Extra)"
   ]
  },
  {
   "cell_type": "markdown",
   "id": "8fa00058",
   "metadata": {},
   "source": [
    "### Exercise: Class Inheritance and Special Methods\n",
    "\n",
    "Create two classes, `Animal` and `Dog`, with the following requirements:\n",
    "\n",
    "1. **`Animal` Class**:  \n",
    "   - An `__init__` method that accepts `name` and `age`, and initializes them as instance variables.  \n",
    "   - A **class method** `describe_class()` that prints `\"This is the Animal class.\"`.  \n",
    "   - A **method** `speak()` that prints `\"Some generic animal sound\"`.  \n",
    "\n",
    "2. **`Dog` Subclass** (inherits from `Animal`):  \n",
    "   - An `__init__` method that accepts `name`, `age`, and `breed`:  \n",
    "     - Uses `super()` to initialize `name` and `age` from the parent class.  \n",
    "     - Adds a new instance variable `breed`.  \n",
    "   - Override the `speak()` method to print `\"Woof!\"`.  \n",
    "   - Implement the `__call__` method to print:  \n",
    "     `Dog's name: {name}, Age: {age}, Breed: {breed}`.  "
   ]
  },
  {
   "cell_type": "code",
   "execution_count": null,
   "id": "b1e53cca",
   "metadata": {},
   "outputs": [
    {
     "name": "stdout",
     "output_type": "stream",
     "text": [
      "This is the Animal class.\n",
      "Dog's name: Tom, Age: 20, Breed: Thai Breed\n",
      "Woof!\n"
     ]
    }
   ],
   "source": [
    "class Animal:\n",
    "    def __init__(self, name, age):\n",
    "        self.name = name\n",
    "        self.age = age\n",
    "\n",
    "    @classmethod\n",
    "    def describe_class(cls):\n",
    "        print(\"This is the Animal class.\")\n",
    "\n",
    "    def speak(self):\n",
    "        print(\"Some generic animal sound\")\n",
    "\n",
    "\n",
    "class Dog(Animal):\n",
    "    def __init__(self, name, age, breed):\n",
    "        super().__init__(name, age)\n",
    "        self.breed = breed\n",
    "\n",
    "    def __call__(self):\n",
    "        print(f\"Dog's name: {self.name}, Age: {self.age}, Breed: {self.breed}\")\n",
    "\n",
    "    def speak(self):\n",
    "        print(\"Woof!\")\n",
    "\n",
    "# Usage\n",
    "dog = Dog(name=\"Tom\", age=20, breed=\"Thai Breed\")\n",
    "dog.describe_class()\n",
    "dog()\n",
    "dog.speak()"
   ]
  }
 ],
 "metadata": {
  "kernelspec": {
   "display_name": ".venv",
   "language": "python",
   "name": "python3"
  },
  "language_info": {
   "codemirror_mode": {
    "name": "ipython",
    "version": 3
   },
   "file_extension": ".py",
   "mimetype": "text/x-python",
   "name": "python",
   "nbconvert_exporter": "python",
   "pygments_lexer": "ipython3",
   "version": "3.12.10"
  }
 },
 "nbformat": 4,
 "nbformat_minor": 5
}
