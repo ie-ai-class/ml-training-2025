{
 "cells": [
  {
   "cell_type": "code",
   "execution_count": null,
   "id": "59723dd0",
   "metadata": {},
   "outputs": [],
   "source": [
    "from pprint import pp"
   ]
  },
  {
   "cell_type": "code",
   "execution_count": null,
   "id": "938d1e1e",
   "metadata": {},
   "outputs": [
    {
     "name": "stdout",
     "output_type": "stream",
     "text": [
      "{'C': 1, 'cache_size': 200, 'coef0': 0.0, 'degree': 3, 'epsilon': 0.1, 'gamma': 'scale', 'kernel': 'rbf', 'max_iter': -1, 'shrinking': True, 'tol': 0.001, 'verbose': False}\n",
      "{'C': 2, 'cache_size': 200, 'coef0': 0.0, 'degree': 3, 'epsilon': 0.1, 'gamma': 'scale', 'kernel': 'rbf', 'max_iter': -1, 'shrinking': True, 'tol': 0.001, 'verbose': False}\n"
     ]
    }
   ],
   "source": [
    "from sklearn.svm import SVR\n",
    "\n",
    "svr = SVR(C=1)\n",
    "print(svr.get_params())\n",
    "\n",
    "svr.set_params(C=2)\n",
    "print(svr.get_params())"
   ]
  },
  {
   "cell_type": "code",
   "execution_count": 13,
   "id": "14fcce57",
   "metadata": {},
   "outputs": [
    {
     "name": "stdout",
     "output_type": "stream",
     "text": [
      "{'estimator__C': 2, 'estimator__cache_size': 200, 'estimator__coef0': 0.0, 'estimator__degree': 3, 'estimator__epsilon': 0.1, 'estimator__gamma': 'scale', 'estimator__kernel': 'rbf', 'estimator__max_iter': -1, 'estimator__shrinking': True, 'estimator__tol': 0.001, 'estimator__verbose': False, 'estimator': SVR(C=2), 'n_jobs': None}\n",
      "{'C': 2, 'cache_size': 200, 'coef0': 0.0, 'degree': 3, 'epsilon': 0.1, 'gamma': 'scale', 'kernel': 'rbf', 'max_iter': -1, 'shrinking': True, 'tol': 0.001, 'verbose': False}\n",
      "{'C': 3, 'cache_size': 200, 'coef0': 0.0, 'degree': 3, 'epsilon': 0.1, 'gamma': 'scale', 'kernel': 'rbf', 'max_iter': -1, 'shrinking': True, 'tol': 0.001, 'verbose': False}\n"
     ]
    }
   ],
   "source": [
    "from sklearn.multioutput import MultiOutputRegressor\n",
    "\n",
    "mor = MultiOutputRegressor(estimator=svr)\n",
    "\n",
    "print(mor.get_params())\n",
    "print(mor.estimator.get_params())\n",
    "\n",
    "mor.set_params(estimator__C=3)\n",
    "print(mor.estimator.get_params())"
   ]
  },
  {
   "cell_type": "code",
   "execution_count": 17,
   "id": "68647fd0",
   "metadata": {},
   "outputs": [
    {
     "name": "stdout",
     "output_type": "stream",
     "text": [
      "{'base__estimator__C': 4, 'base__estimator__cache_size': 200, 'base__estimator__coef0': 0.0, 'base__estimator__degree': 3, 'base__estimator__epsilon': 0.1, 'base__estimator__gamma': 'scale', 'base__estimator__kernel': 'rbf', 'base__estimator__max_iter': -1, 'base__estimator__shrinking': True, 'base__estimator__tol': 0.001, 'base__estimator__verbose': False, 'base__estimator': SVR(C=4), 'base__n_jobs': None, 'base': MultiOutputRegressor(estimator=SVR(C=4))}\n",
      "{'C': 5, 'cache_size': 200, 'coef0': 0.0, 'degree': 3, 'epsilon': 0.1, 'gamma': 'scale', 'kernel': 'rbf', 'max_iter': -1, 'shrinking': True, 'tol': 0.001, 'verbose': False}\n"
     ]
    }
   ],
   "source": [
    "from sklearn.base import BaseEstimator\n",
    "\n",
    "class MyRegressor(BaseEstimator):\n",
    "    def __init__(self, base):\n",
    "        self.base = base\n",
    "        \n",
    "mrg = MyRegressor(base=mor)\n",
    "\n",
    "print(mrg.get_params())\n",
    "\n",
    "mrg.set_params(base__estimator__C=5)\n",
    "\n",
    "print(mrg.base.estimator.get_params())"
   ]
  },
  {
   "cell_type": "code",
   "execution_count": null,
   "id": "bd5d9091",
   "metadata": {},
   "outputs": [],
   "source": []
  }
 ],
 "metadata": {
  "kernelspec": {
   "display_name": ".venv",
   "language": "python",
   "name": "python3"
  },
  "language_info": {
   "codemirror_mode": {
    "name": "ipython",
    "version": 3
   },
   "file_extension": ".py",
   "mimetype": "text/x-python",
   "name": "python",
   "nbconvert_exporter": "python",
   "pygments_lexer": "ipython3",
   "version": "3.12.10"
  }
 },
 "nbformat": 4,
 "nbformat_minor": 5
}
