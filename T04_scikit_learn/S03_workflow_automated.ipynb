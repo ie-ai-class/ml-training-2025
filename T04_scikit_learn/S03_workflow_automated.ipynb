{
 "cells": [
  {
   "cell_type": "code",
   "execution_count": null,
   "id": "dc04f602",
   "metadata": {},
   "outputs": [],
   "source": [
    "import pandas as pd\n",
    "import matplotlib.pyplot as plt\n",
    "from pprint import pp"
   ]
  },
  {
   "cell_type": "code",
   "execution_count": null,
   "id": "6328db1b",
   "metadata": {},
   "outputs": [],
   "source": [
    "SAVE_DATA = False"
   ]
  },
  {
   "cell_type": "markdown",
   "id": "833e27a3",
   "metadata": {},
   "source": [
    "### Read data\n"
   ]
  },
  {
   "cell_type": "code",
   "execution_count": null,
   "id": "3ee1d9c1",
   "metadata": {},
   "outputs": [],
   "source": [
    "df = pd.read_excel(\"data.xlsx\", index_col=\"exp\")\n",
    "df.head()"
   ]
  },
  {
   "cell_type": "code",
   "execution_count": null,
   "id": "35621497",
   "metadata": {},
   "outputs": [],
   "source": [
    "df.info()"
   ]
  },
  {
   "cell_type": "markdown",
   "id": "cf55b673",
   "metadata": {},
   "source": [
    "### Extract data\n"
   ]
  },
  {
   "cell_type": "code",
   "execution_count": null,
   "id": "47c5b816",
   "metadata": {},
   "outputs": [],
   "source": [
    "_X = df.iloc[:, :-3]\n",
    "_Y = df.iloc[:, -3:]\n",
    "print(_X.shape)\n",
    "print(_Y.shape)"
   ]
  },
  {
   "cell_type": "markdown",
   "id": "5bb57563",
   "metadata": {},
   "source": [
    "### Split data\n"
   ]
  },
  {
   "cell_type": "code",
   "execution_count": null,
   "id": "16782df3",
   "metadata": {},
   "outputs": [],
   "source": [
    "from sklearn.model_selection import train_test_split\n",
    "\n",
    "_X_train, _X_test, _Y_train, _Y_test = train_test_split(\n",
    "    _X, _Y, test_size=0.3, random_state=0\n",
    ")\n",
    "print(_X_train.shape)\n",
    "print(_X_test.shape)\n",
    "print(_Y_train.shape)\n",
    "print(_Y_test.shape)"
   ]
  },
  {
   "cell_type": "markdown",
   "id": "2fbf5642",
   "metadata": {},
   "source": [
    "### Scale data\n"
   ]
  },
  {
   "cell_type": "code",
   "execution_count": null,
   "id": "ed5336f1",
   "metadata": {},
   "outputs": [],
   "source": [
    "from sklearn.preprocessing import StandardScaler\n",
    "\n",
    "scX = StandardScaler()\n",
    "X_train = scX.fit_transform(_X_train)\n",
    "X_test = scX.transform(_X_test)\n",
    "\n",
    "scY = StandardScaler()\n",
    "Y_train = scY.fit_transform(_Y_train)\n",
    "Y_test = scY.transform(_Y_test)"
   ]
  },
  {
   "cell_type": "markdown",
   "id": "a28f0725",
   "metadata": {},
   "source": [
    "### Choose model\n"
   ]
  },
  {
   "cell_type": "code",
   "execution_count": null,
   "id": "f77fad9e",
   "metadata": {},
   "outputs": [],
   "source": [
    "from sklearn.svm import SVR\n",
    "from sklearn.multioutput import MultiOutputRegressor\n",
    "\n",
    "reg = MultiOutputRegressor(estimator=SVR())"
   ]
  },
  {
   "cell_type": "markdown",
   "id": "74cbbe86",
   "metadata": {},
   "source": [
    "### Setup hypermater search\n"
   ]
  },
  {
   "cell_type": "code",
   "execution_count": null,
   "id": "9e43f5f1",
   "metadata": {},
   "outputs": [],
   "source": [
    "pp(reg.get_params())\n",
    "\n",
    "param_grid = [{\"estimator__C\": [0.001, 0.01, 0.01, 1]}]"
   ]
  },
  {
   "cell_type": "code",
   "execution_count": null,
   "id": "382df33b",
   "metadata": {},
   "outputs": [],
   "source": [
    "from sklearn.model_selection import GridSearchCV\n",
    "\n",
    "# See https://scikit-learn.org/stable/modules/model_evaluation.html#scoring-parameter for a list of scoring parameters.\n",
    "\n",
    "gs = GridSearchCV(\n",
    "    estimator=reg,\n",
    "    param_grid=param_grid,\n",
    "    cv=3,\n",
    "    # scoring=\"neg_mean_squared_error\",\n",
    "    scoring=\"r2\",\n",
    "    n_jobs=-1,\n",
    ")\n"
   ]
  },
  {
   "cell_type": "markdown",
   "id": "f46cfbea",
   "metadata": {},
   "source": [
    "### Train model\n"
   ]
  },
  {
   "cell_type": "code",
   "execution_count": null,
   "id": "bb1ba68a",
   "metadata": {},
   "outputs": [],
   "source": [
    "gs.fit(X_train, Y_train)"
   ]
  },
  {
   "cell_type": "code",
   "execution_count": null,
   "id": "d8747770",
   "metadata": {},
   "outputs": [],
   "source": [
    "cv_results = pd.DataFrame(gs.cv_results_).sort_values(by=\"rank_test_score\")\n",
    "display(cv_results)"
   ]
  },
  {
   "cell_type": "code",
   "execution_count": null,
   "id": "3fa69c96",
   "metadata": {},
   "outputs": [],
   "source": [
    "# Check the best estimator.\n",
    "gs.best_estimator_.get_params()"
   ]
  },
  {
   "cell_type": "markdown",
   "id": "de2e7805",
   "metadata": {},
   "source": [
    "### Predict results\n"
   ]
  },
  {
   "cell_type": "code",
   "execution_count": null,
   "id": "fec0243e",
   "metadata": {},
   "outputs": [],
   "source": [
    "# Note that gs.predict will choose the best model.\n",
    "\n",
    "Y_train_pred = gs.predict(X_train)\n",
    "Y_test_pred = gs.predict(X_test)\n",
    "\n",
    "print(Y_train_pred.shape)\n",
    "print(Y_test_pred.shape)"
   ]
  },
  {
   "cell_type": "markdown",
   "id": "10fc0d17",
   "metadata": {},
   "source": [
    "### Evaluate model performance\n"
   ]
  },
  {
   "cell_type": "code",
   "execution_count": null,
   "id": "4ef8121c",
   "metadata": {},
   "outputs": [],
   "source": [
    "from datetime import datetime\n",
    "\n",
    "dt = datetime.now().strftime(\"%Y-%m-%d_%H-%M\")"
   ]
  },
  {
   "cell_type": "code",
   "execution_count": null,
   "id": "f1d59e71",
   "metadata": {},
   "outputs": [],
   "source": [
    "from sklearn.metrics import (\n",
    "    mean_squared_error,\n",
    "    mean_absolute_percentage_error,\n",
    "    r2_score,\n",
    ")\n",
    "\n",
    "\n",
    "def eval_perf(y_true, y_pred):\n",
    "    mse = mean_squared_error(y_true=y_true, y_pred=y_pred)\n",
    "    mape = mean_absolute_percentage_error(y_true=y_true, y_pred=y_pred)\n",
    "    r2 = r2_score(y_true=y_true, y_pred=y_pred)\n",
    "    return mse, mape, r2\n",
    "\n",
    "\n",
    "def print_perf(data):\n",
    "    for k, v in data.items():\n",
    "        print(k, \":\", v)\n",
    "\n",
    "\n",
    "data_arr = []\n",
    "for i in range(0, _Y.shape[1]):\n",
    "    mse_train, mape_train, r2_train = eval_perf(\n",
    "        y_true=Y_train[:, i], y_pred=Y_train_pred[:, i]\n",
    "    )\n",
    "    mse_test, mape_test, r2_test = eval_perf(\n",
    "        y_true=Y_test[:, i], y_pred=Y_test_pred[:, i]\n",
    "    )\n",
    "\n",
    "    data = {\n",
    "        \"Y\": f\"Y-{i + 1}\",\n",
    "        \"MSE Train\": mse_train,\n",
    "        \"MSE Test\": mse_test,\n",
    "        \"MAPE Train\": mape_train,\n",
    "        \"MAPE Test\": mape_test,\n",
    "        \"R2 Train\": r2_train,\n",
    "        \"R2 Test\": r2_test,\n",
    "    }\n",
    "    # print_perf(data)\n",
    "\n",
    "    data_arr.append(data)\n",
    "\n",
    "mse_train, mape_train, r2_train = eval_perf(y_true=Y_train, y_pred=Y_train_pred)\n",
    "mse_test, mape_test, r2_test = eval_perf(y_true=Y_test, y_pred=Y_test_pred)\n",
    "print_perf(data)\n",
    "\n",
    "data = {\n",
    "    \"Y\": \"Y-All\",\n",
    "    \"MSE Train\": mse_train,\n",
    "    \"MSE Test\": mse_test,\n",
    "    \"MAPE Train\": mape_train,\n",
    "    \"MAPE Test\": mape_test,\n",
    "    \"R2 Train\": r2_train,\n",
    "    \"R2 Test\": r2_test,\n",
    "}\n",
    "data_arr.append(data)\n",
    "# print_perf(data)\n",
    "\n",
    "df_eval = pd.DataFrame.from_dict(data_arr)\n",
    "display(df_eval)\n",
    "\n",
    "if SAVE_DATA:\n",
    "    filename = f\"eval_{dt}.xlsx\"\n",
    "    df_eval.to_excel(filename, index=False)"
   ]
  },
  {
   "cell_type": "code",
   "execution_count": null,
   "id": "caca434c",
   "metadata": {},
   "outputs": [],
   "source": [
    "from sklearn.metrics import PredictionErrorDisplay\n",
    "\n",
    "for i in range(0, _Y.shape[1]):\n",
    "    fig, axes = plt.subplots(\n",
    "        nrows=1,\n",
    "        ncols=2,\n",
    "        figsize=(10, 5),\n",
    "        constrained_layout=True,\n",
    "        sharex=True,\n",
    "        sharey=True,\n",
    "    )\n",
    "\n",
    "    display_train = PredictionErrorDisplay(\n",
    "        y_true=Y_train[:, i], y_pred=Y_train_pred[:, i]\n",
    "    )\n",
    "    display_train.plot(ax=axes[0])\n",
    "    axes[0].set_title(\"Train\")\n",
    "\n",
    "    display_train = PredictionErrorDisplay(\n",
    "        y_true=Y_test[:, i], y_pred=Y_test_pred[:, i]\n",
    "    )\n",
    "    display_train.plot(ax=axes[1])\n",
    "    axes[1].set_title(\"Test\")\n",
    "\n",
    "    if SAVE_DATA:\n",
    "        filename = f\"res_plot_{dt}_{i}.png\"\n",
    "        fig.savefig(filename, dpi=300)\n",
    "\n",
    "    plt.show()"
   ]
  },
  {
   "cell_type": "markdown",
   "id": "258065f0",
   "metadata": {},
   "source": [
    "### Save data\n"
   ]
  },
  {
   "cell_type": "code",
   "execution_count": null,
   "id": "7db4c7bb",
   "metadata": {},
   "outputs": [],
   "source": [
    "import pickle\n",
    "\n",
    "filename = f\"data_{dt}.pkl\"\n",
    "\n",
    "data_save = {\n",
    "    \"model\": reg,\n",
    "    \"desc\": \"This is the saved data\",\n",
    "    \"Y_train\": Y_train,\n",
    "    \"Y_train_pred\": Y_train_pred,\n",
    "    \"Y_test\": Y_test,\n",
    "    \"Y_test_Pred\": Y_test_pred,\n",
    "    \"eval\": df_eval,\n",
    "}\n",
    "\n",
    "\n",
    "# Save the model\n",
    "if SAVE_DATA:\n",
    "    with open(filename, \"wb\") as file:\n",
    "        pickle.dump(data_save, file)"
   ]
  },
  {
   "cell_type": "markdown",
   "id": "285715a6",
   "metadata": {},
   "source": [
    "### Test loading data\n"
   ]
  },
  {
   "cell_type": "code",
   "execution_count": null,
   "id": "cc293942",
   "metadata": {},
   "outputs": [],
   "source": [
    "if SAVE_DATA:\n",
    "    with open(filename, \"rb\") as file:\n",
    "        data_load = pickle.load(file)\n",
    "\n",
    "    print(data_load)"
   ]
  }
 ],
 "metadata": {
  "kernelspec": {
   "display_name": ".venv",
   "language": "python",
   "name": "python3"
  },
  "language_info": {
   "codemirror_mode": {
    "name": "ipython",
    "version": 3
   },
   "file_extension": ".py",
   "mimetype": "text/x-python",
   "name": "python",
   "nbconvert_exporter": "python",
   "pygments_lexer": "ipython3",
   "version": "3.12.10"
  }
 },
 "nbformat": 4,
 "nbformat_minor": 5
}
