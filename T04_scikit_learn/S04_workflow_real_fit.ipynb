{
 "cells": [
  {
   "cell_type": "code",
   "execution_count": null,
   "id": "86d92dde",
   "metadata": {},
   "outputs": [],
   "source": [
    "import pickle\n",
    "from datetime import datetime\n",
    "from pprint import pp\n",
    "\n",
    "import pandas as pd\n",
    "from sklearn.base import BaseEstimator\n",
    "from sklearn.model_selection import train_test_split\n"
   ]
  },
  {
   "cell_type": "code",
   "execution_count": null,
   "id": "9f59d2c5",
   "metadata": {},
   "outputs": [],
   "source": [
    "SAVE_DATA = True"
   ]
  },
  {
   "cell_type": "code",
   "execution_count": null,
   "id": "c4b85c20",
   "metadata": {},
   "outputs": [],
   "source": [
    "class MyUtil:\n",
    "    def save_data(filename, data):\n",
    "        with open(filename, \"wb\") as file:\n",
    "            pickle.dump(data, file)\n",
    "\n",
    "    def load_data(filename):\n",
    "        with open(filename, \"rb\") as file:\n",
    "            data = pickle.load(file)\n",
    "        return data\n",
    "\n",
    "    def get_dt():\n",
    "        return datetime.now().strftime(\"%Y-%m-%d_%H-%M\")"
   ]
  },
  {
   "cell_type": "code",
   "execution_count": null,
   "id": "c2fdb8d5",
   "metadata": {},
   "outputs": [],
   "source": [
    "class DataHandler():\n",
    "    def __init__(self, _X, _Y, scalerX, scalerY):\n",
    "        self._X = _X\n",
    "        self._Y = _Y\n",
    "        self.scalerX = scalerX\n",
    "        self.scalerY = scalerY\n",
    "        self.X_train = None\n",
    "        self.X_test = None\n",
    "        self.Y_train = None\n",
    "        self.Y_test = None\n",
    "\n",
    "    def split_and_scale(self, test_size, random_state):\n",
    "        _X_train, _X_test, _Y_train, _Y_test = train_test_split(\n",
    "            self._X, self._Y, test_size=test_size, random_state=random_state\n",
    "        )\n",
    "        self.X_train = self.scalerX.fit_transform(_X_train)\n",
    "        self.X_test = self.scalerX.transform(_X_test)\n",
    "\n",
    "        self.Y_train = self.scalerY.fit_transform(_Y_train)\n",
    "        self.Y_test = self.scalerY.transform(_Y_test)\n",
    "\n",
    "    def get_train(self):\n",
    "        return self.X_train, self.Y_train\n",
    "\n",
    "    def get_test(self):\n",
    "        return self.X_test, self.Y_test"
   ]
  },
  {
   "cell_type": "code",
   "execution_count": null,
   "id": "828e470b",
   "metadata": {},
   "outputs": [],
   "source": [
    "class RegSwitcher(BaseEstimator):\n",
    "    def __init__(self, base=None):\n",
    "        self.base = base\n",
    "\n",
    "    def fit(self, X, Y):\n",
    "        self.base.fit(X, Y)\n",
    "        self.is_fitted_ = True\n",
    "        return self\n",
    "\n",
    "    def predict(self, X):\n",
    "        return self.base.predict(X)"
   ]
  },
  {
   "cell_type": "code",
   "execution_count": null,
   "id": "6f4ac478",
   "metadata": {},
   "outputs": [],
   "source": [
    "dt = MyUtil.get_dt()"
   ]
  },
  {
   "cell_type": "markdown",
   "id": "833e27a3",
   "metadata": {},
   "source": [
    "### Read data"
   ]
  },
  {
   "cell_type": "code",
   "execution_count": null,
   "id": "3ee1d9c1",
   "metadata": {},
   "outputs": [],
   "source": [
    "df = pd.read_excel(\"data.xlsx\", index_col=\"exp\")\n",
    "df.head()"
   ]
  },
  {
   "cell_type": "code",
   "execution_count": null,
   "id": "35621497",
   "metadata": {},
   "outputs": [],
   "source": [
    "df.info()"
   ]
  },
  {
   "cell_type": "markdown",
   "id": "cf55b673",
   "metadata": {},
   "source": [
    "### Extract data"
   ]
  },
  {
   "cell_type": "code",
   "execution_count": null,
   "id": "47c5b816",
   "metadata": {},
   "outputs": [],
   "source": [
    "_X = df.iloc[:, :-3].values\n",
    "_Y = df.iloc[:, -3:].values\n",
    "print(_X.shape)\n",
    "print(_Y.shape)"
   ]
  },
  {
   "cell_type": "markdown",
   "id": "5bb57563",
   "metadata": {},
   "source": [
    "### Initialize DataHandler"
   ]
  },
  {
   "cell_type": "code",
   "execution_count": null,
   "id": "16782df3",
   "metadata": {},
   "outputs": [],
   "source": [
    "from sklearn.preprocessing import StandardScaler\n",
    "\n",
    "data_handler = DataHandler(\n",
    "    _X=_X, _Y=_Y, scalerX=StandardScaler(), scalerY=StandardScaler()\n",
    ")\n",
    "\n",
    "# Test\n",
    "# data_handler.split_and_scale(test_size=0.3, random_state=0)\n",
    "# X_train, Y_train = ds.get_train()\n",
    "# print(X_train.shape)\n",
    "# print(Y_train.shape)"
   ]
  },
  {
   "cell_type": "markdown",
   "id": "9eea2405",
   "metadata": {},
   "source": [
    "### Setup hyper-parameter search"
   ]
  },
  {
   "cell_type": "markdown",
   "id": "79f589c8",
   "metadata": {},
   "source": [
    "#### Spliting parameters"
   ]
  },
  {
   "cell_type": "code",
   "execution_count": null,
   "id": "05f158cb",
   "metadata": {},
   "outputs": [],
   "source": [
    "from sklearn.model_selection import ParameterGrid\n",
    "\n",
    "param_grid_split = [{\"random_state\": [1, 2, 3, 4, 5], \"test_size\": [0.3]}]\n",
    "param_list_split = list(ParameterGrid(param_grid_split))\n",
    "pp(param_list_split)"
   ]
  },
  {
   "cell_type": "markdown",
   "id": "4125ecaa",
   "metadata": {},
   "source": [
    "#### Model hyper parameters"
   ]
  },
  {
   "cell_type": "code",
   "execution_count": null,
   "id": "e895543e",
   "metadata": {},
   "outputs": [],
   "source": [
    "from sklearn.ensemble import GradientBoostingRegressor, RandomForestRegressor\n",
    "from sklearn.linear_model import LinearRegression\n",
    "from sklearn.model_selection import GridSearchCV\n",
    "from sklearn.multioutput import MultiOutputRegressor\n",
    "from sklearn.svm import SVR\n",
    "\n",
    "base_lr = MultiOutputRegressor(estimator=LinearRegression())\n",
    "base_svr = MultiOutputRegressor(estimator=SVR())\n",
    "base_rf = MultiOutputRegressor(estimator=RandomForestRegressor())\n",
    "\n",
    "# This is for testing\n",
    "reg = RegSwitcher(base=base_svr)\n",
    "pp(reg.get_params())"
   ]
  },
  {
   "cell_type": "code",
   "execution_count": null,
   "id": "d05cf4c7",
   "metadata": {},
   "outputs": [],
   "source": [
    "param_grid_hyper = [\n",
    "    {\"base\": [base_lr]},\n",
    "    {\"base\": [base_svr], \"base__estimator__C\": [0.01, 0.1, 1]},\n",
    "    {\"base\": [base_rf], \"base__estimator__n_estimators\": [10, 50, 200]},\n",
    "]"
   ]
  },
  {
   "cell_type": "code",
   "execution_count": null,
   "id": "1a9887d6",
   "metadata": {},
   "outputs": [],
   "source": [
    "# Initialize blank model (optional)\n",
    "reg = RegSwitcher(base=None)\n",
    "\n",
    "\n",
    "df_arr = []\n",
    "for idx_split, param_split in enumerate(param_list_split):\n",
    "    data_handler.split_and_scale(**param_split)\n",
    "    X_train, Y_train = data_handler.get_train()\n",
    "\n",
    "    gs = GridSearchCV(\n",
    "        estimator=reg,\n",
    "        param_grid=param_grid_hyper,\n",
    "        cv=3,\n",
    "        # scoring=\"neg_mean_squared_error\",\n",
    "        scoring=\"r2\",\n",
    "        n_jobs=-1,\n",
    "    )\n",
    "    gs.fit(X_train, Y_train)\n",
    "    _df = pd.DataFrame(gs.cv_results_)\n",
    "    _df[\"id_split\"] = idx_split\n",
    "    _df[\"param_split\"] = [param_split for _ in range(_df.shape[0])]\n",
    "    df_arr.append(_df)\n",
    "\n",
    "df_fit = pd.concat(df_arr)\n",
    "df_fit = df_fit.reset_index().rename(columns={\"index\": \"id_gs\"})"
   ]
  },
  {
   "cell_type": "code",
   "execution_count": null,
   "id": "b759043a",
   "metadata": {},
   "outputs": [],
   "source": [
    "df_fit"
   ]
  },
  {
   "cell_type": "markdown",
   "id": "7cd91f95",
   "metadata": {},
   "source": [
    "Create a new column called `\"estimator\"` that contains the class name (as a string) of the estimator used in each row.\n",
    "\n",
    "1. **The DataFrame (`df_fit`):**\n",
    "    - Each row represents a different set of hyperparameters tested during grid search.\n",
    "    - The `\"param_base\"` column contains objects `MultiOutputRegressor`.\n",
    "\n",
    "2. **The `.apply()` Method:**\n",
    "    - `df_fit[\"param_base\"].apply(...)` applies a function to every entry in the `\"param_base\"` column.\n",
    "\n",
    "3. **The Lambda Function:**\n",
    "    - For each entry `x` in `\"param_base\"`, the lambda function does:\n",
    "      - `x.estimator`: Accesses the estimator object.\n",
    "      - `x.estimator.__class__`: Gets the class of the estimator.\n",
    "      - `x.estimator.__class__.__name__`: Gets the name of the class as a string (e.g., `\"RandomForestClassifier\"`).\n",
    "\n",
    "4. **Assigning the Result:**\n",
    "    - The resulting estimator names are stored in a new column `\"estimator\"`.\n"
   ]
  },
  {
   "cell_type": "code",
   "execution_count": null,
   "id": "105dd2b8",
   "metadata": {},
   "outputs": [],
   "source": [
    "df_fit[\"estimator\"] = df_fit[\"param_base\"].apply(\n",
    "    lambda x: x.estimator.__class__.__name__\n",
    ")\n",
    "\n",
    "# Test\n",
    "# pp(df_eval[\"param_base\"][0].estimator.__class__.__name__)"
   ]
  },
  {
   "cell_type": "code",
   "execution_count": null,
   "id": "19f3b7f1",
   "metadata": {},
   "outputs": [],
   "source": [
    "# Extract only columns that I will use\n",
    "pp(df_fit.columns)\n",
    "\n",
    "cols = [\n",
    "    \"id_split\",\n",
    "    \"param_split\",\n",
    "    \"id_gs\",\n",
    "    \"params\",\n",
    "    \"estimator\",\n",
    "    \"mean_test_score\",\n",
    "    \"std_test_score\",\n",
    "    \"rank_test_score\",\n",
    "]\n",
    "\n",
    "df_fit = df_fit[cols]\n",
    "df_fit"
   ]
  },
  {
   "cell_type": "markdown",
   "id": "258065f0",
   "metadata": {},
   "source": [
    "### Save data"
   ]
  },
  {
   "cell_type": "code",
   "execution_count": null,
   "id": "7db4c7bb",
   "metadata": {},
   "outputs": [],
   "source": [
    "if SAVE_DATA:\n",
    "    filename = f\"S04_data_{dt}.pkl\"\n",
    "\n",
    "    data_save = {\n",
    "        \"desc\": \"This is the saved data\",\n",
    "        \"data_handler\": data_handler,\n",
    "        \"param_split\": param_split,\n",
    "        \"param_grid_hyper\": param_grid_hyper,\n",
    "        \"df_fit\": df_fit,\n",
    "    }\n",
    "\n",
    "    # Save the model\n",
    "    MyUtil.save_data(filename=filename, data=data_save)"
   ]
  },
  {
   "cell_type": "markdown",
   "id": "285715a6",
   "metadata": {},
   "source": [
    "### Test loading data"
   ]
  },
  {
   "cell_type": "code",
   "execution_count": null,
   "id": "cc293942",
   "metadata": {},
   "outputs": [],
   "source": [
    "if SAVE_DATA:\n",
    "    data_load = MyUtil.load_data(filename=filename)\n",
    "\n",
    "    pp(data_load)"
   ]
  },
  {
   "cell_type": "code",
   "execution_count": null,
   "id": "3f6af534",
   "metadata": {},
   "outputs": [],
   "source": []
  }
 ],
 "metadata": {
  "kernelspec": {
   "display_name": ".venv",
   "language": "python",
   "name": "python3"
  },
  "language_info": {
   "codemirror_mode": {
    "name": "ipython",
    "version": 3
   },
   "file_extension": ".py",
   "mimetype": "text/x-python",
   "name": "python",
   "nbconvert_exporter": "python",
   "pygments_lexer": "ipython3",
   "version": "3.12.10"
  }
 },
 "nbformat": 4,
 "nbformat_minor": 5
}
