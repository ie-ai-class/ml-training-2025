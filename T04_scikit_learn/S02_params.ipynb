{
 "cells": [
  {
   "cell_type": "code",
   "execution_count": null,
   "id": "cdff1e6c",
   "metadata": {},
   "outputs": [],
   "source": [
    "from pprint import pp"
   ]
  },
  {
   "cell_type": "code",
   "execution_count": null,
   "id": "a186274e",
   "metadata": {},
   "outputs": [],
   "source": [
    "from sklearn.svm import SVR\n",
    "\n",
    "svr = SVR()\n",
    "print(svr.get_params())\n",
    "svr.set_params(C=2)\n",
    "print(svr.get_params())"
   ]
  },
  {
   "cell_type": "code",
   "execution_count": null,
   "id": "eea70897",
   "metadata": {},
   "outputs": [],
   "source": [
    "from sklearn.multioutput import MultiOutputRegressor\n",
    "\n",
    "mor = MultiOutputRegressor(estimator=svr)\n",
    "print(mor.get_params())\n",
    "mor.set_params(estimator__C=3)\n",
    "print(mor.get_params())\n",
    "print(mor.estimator.get_params())"
   ]
  },
  {
   "cell_type": "code",
   "execution_count": null,
   "id": "aa44654e",
   "metadata": {},
   "outputs": [],
   "source": [
    "from sklearn.base import BaseEstimator\n",
    "\n",
    "\n",
    "class MyRegressor(BaseEstimator):\n",
    "    def __init__(self, base):\n",
    "        self.base = base\n",
    "\n",
    "\n",
    "mrg = MyRegressor(base=mor)\n",
    "\n",
    "print(mrg.get_params())\n",
    "mrg.set_params(base__estimator__C=4)\n",
    "print(mrg.base.get_params())\n",
    "print(mrg.base.estimator.get_params())"
   ]
  },
  {
   "cell_type": "code",
   "execution_count": null,
   "id": "f9209f22",
   "metadata": {},
   "outputs": [],
   "source": [
    "from sklearn.model_selection import ParameterGrid\n",
    "\n",
    "param_grid = [\n",
    "    {\"base__estimator__C\": [0.1, 1], \"base__estimator__degree\": [4, 5, 6]},\n",
    "    {\"base__estimator__C\": [10, 100], \"base__estimator__degree\": [4, 5, 6]},\n",
    "]\n",
    "\n",
    "param_list = list(ParameterGrid(param_grid))\n",
    "pp(param_list)"
   ]
  }
 ],
 "metadata": {
  "kernelspec": {
   "display_name": ".venv",
   "language": "python",
   "name": "python3"
  },
  "language_info": {
   "codemirror_mode": {
    "name": "ipython",
    "version": 3
   },
   "file_extension": ".py",
   "mimetype": "text/x-python",
   "name": "python",
   "nbconvert_exporter": "python",
   "pygments_lexer": "ipython3",
   "version": "3.12.10"
  }
 },
 "nbformat": 4,
 "nbformat_minor": 5
}
