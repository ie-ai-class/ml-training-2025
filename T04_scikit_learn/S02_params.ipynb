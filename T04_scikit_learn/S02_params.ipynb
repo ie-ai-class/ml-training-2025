{
 "cells": [
  {
   "cell_type": "code",
   "execution_count": 20,
   "id": "cdff1e6c",
   "metadata": {},
   "outputs": [],
   "source": [
    "from pprint import pp"
   ]
  },
  {
   "cell_type": "code",
   "execution_count": 21,
   "id": "a186274e",
   "metadata": {},
   "outputs": [
    {
     "name": "stdout",
     "output_type": "stream",
     "text": [
      "{'C': 1.0, 'cache_size': 200, 'coef0': 0.0, 'degree': 3, 'epsilon': 0.1, 'gamma': 'scale', 'kernel': 'rbf', 'max_iter': -1, 'shrinking': True, 'tol': 0.001, 'verbose': False}\n",
      "{'C': 2, 'cache_size': 200, 'coef0': 0.0, 'degree': 3, 'epsilon': 0.1, 'gamma': 'scale', 'kernel': 'rbf', 'max_iter': -1, 'shrinking': True, 'tol': 0.001, 'verbose': False}\n"
     ]
    }
   ],
   "source": [
    "from sklearn.svm import SVR\n",
    "\n",
    "svr = SVR()\n",
    "print(svr.get_params())\n",
    "svr.set_params(C=2)\n",
    "print(svr.get_params())"
   ]
  },
  {
   "cell_type": "code",
   "execution_count": 22,
   "id": "eea70897",
   "metadata": {},
   "outputs": [
    {
     "name": "stdout",
     "output_type": "stream",
     "text": [
      "{'estimator__C': 2, 'estimator__cache_size': 200, 'estimator__coef0': 0.0, 'estimator__degree': 3, 'estimator__epsilon': 0.1, 'estimator__gamma': 'scale', 'estimator__kernel': 'rbf', 'estimator__max_iter': -1, 'estimator__shrinking': True, 'estimator__tol': 0.001, 'estimator__verbose': False, 'estimator': SVR(C=2), 'n_jobs': None}\n",
      "{'estimator__C': 3, 'estimator__cache_size': 200, 'estimator__coef0': 0.0, 'estimator__degree': 3, 'estimator__epsilon': 0.1, 'estimator__gamma': 'scale', 'estimator__kernel': 'rbf', 'estimator__max_iter': -1, 'estimator__shrinking': True, 'estimator__tol': 0.001, 'estimator__verbose': False, 'estimator': SVR(C=3), 'n_jobs': None}\n",
      "{'C': 3, 'cache_size': 200, 'coef0': 0.0, 'degree': 3, 'epsilon': 0.1, 'gamma': 'scale', 'kernel': 'rbf', 'max_iter': -1, 'shrinking': True, 'tol': 0.001, 'verbose': False}\n"
     ]
    }
   ],
   "source": [
    "from sklearn.multioutput import MultiOutputRegressor\n",
    "\n",
    "mor = MultiOutputRegressor(estimator=svr)\n",
    "print(mor.get_params())\n",
    "mor.set_params(estimator__C=3)\n",
    "print(mor.get_params())\n",
    "print(mor.estimator.get_params())"
   ]
  },
  {
   "cell_type": "code",
   "execution_count": null,
   "id": "aa44654e",
   "metadata": {},
   "outputs": [
    {
     "name": "stdout",
     "output_type": "stream",
     "text": [
      "{'base__estimator__C': 3, 'base__estimator__cache_size': 200, 'base__estimator__coef0': 0.0, 'base__estimator__degree': 3, 'base__estimator__epsilon': 0.1, 'base__estimator__gamma': 'scale', 'base__estimator__kernel': 'rbf', 'base__estimator__max_iter': -1, 'base__estimator__shrinking': True, 'base__estimator__tol': 0.001, 'base__estimator__verbose': False, 'base__estimator': SVR(C=3), 'base__n_jobs': None, 'base': MultiOutputRegressor(estimator=SVR(C=3))}\n",
      "{'estimator__C': 4, 'estimator__cache_size': 200, 'estimator__coef0': 0.0, 'estimator__degree': 3, 'estimator__epsilon': 0.1, 'estimator__gamma': 'scale', 'estimator__kernel': 'rbf', 'estimator__max_iter': -1, 'estimator__shrinking': True, 'estimator__tol': 0.001, 'estimator__verbose': False, 'estimator': SVR(C=4), 'n_jobs': None}\n",
      "{'C': 4, 'cache_size': 200, 'coef0': 0.0, 'degree': 3, 'epsilon': 0.1, 'gamma': 'scale', 'kernel': 'rbf', 'max_iter': -1, 'shrinking': True, 'tol': 0.001, 'verbose': False}\n"
     ]
    }
   ],
   "source": [
    "from sklearn.base import BaseEstimator\n",
    "\n",
    "\n",
    "class MyRegressor(BaseEstimator):\n",
    "    def __init__(self, base):\n",
    "        self.base = base\n",
    "\n",
    "\n",
    "mrg = MyRegressor(base=mor)\n",
    "\n",
    "print(mrg.get_params())\n",
    "mrg.set_params(base__estimator__C=4)\n",
    "print(mrg.base.get_params())\n",
    "print(mrg.base.estimator.get_params())"
   ]
  },
  {
   "cell_type": "code",
   "execution_count": 31,
   "id": "f9209f22",
   "metadata": {},
   "outputs": [
    {
     "name": "stdout",
     "output_type": "stream",
     "text": [
      "[{'base__estimator__C': 0.1, 'base__estimator__degree': 4},\n",
      " {'base__estimator__C': 0.1, 'base__estimator__degree': 5},\n",
      " {'base__estimator__C': 0.1, 'base__estimator__degree': 6},\n",
      " {'base__estimator__C': 1, 'base__estimator__degree': 4},\n",
      " {'base__estimator__C': 1, 'base__estimator__degree': 5},\n",
      " {'base__estimator__C': 1, 'base__estimator__degree': 6},\n",
      " {'base__estimator__C': 10, 'base__estimator__degree': 4},\n",
      " {'base__estimator__C': 10, 'base__estimator__degree': 5},\n",
      " {'base__estimator__C': 10, 'base__estimator__degree': 6},\n",
      " {'base__estimator__C': 100, 'base__estimator__degree': 4},\n",
      " {'base__estimator__C': 100, 'base__estimator__degree': 5},\n",
      " {'base__estimator__C': 100, 'base__estimator__degree': 6}]\n"
     ]
    }
   ],
   "source": [
    "from sklearn.model_selection import ParameterGrid\n",
    "\n",
    "param_grid = [\n",
    "    {\"base__estimator__C\": [0.1, 1], \"base__estimator__degree\": [4, 5, 6]},\n",
    "    {\"base__estimator__C\": [10, 100], \"base__estimator__degree\": [4, 5, 6]},\n",
    "]\n",
    "\n",
    "param_list = list(ParameterGrid(param_grid))\n",
    "pp(param_list)"
   ]
  }
 ],
 "metadata": {
  "kernelspec": {
   "display_name": ".venv",
   "language": "python",
   "name": "python3"
  },
  "language_info": {
   "codemirror_mode": {
    "name": "ipython",
    "version": 3
   },
   "file_extension": ".py",
   "mimetype": "text/x-python",
   "name": "python",
   "nbconvert_exporter": "python",
   "pygments_lexer": "ipython3",
   "version": "3.12.10"
  }
 },
 "nbformat": 4,
 "nbformat_minor": 5
}
