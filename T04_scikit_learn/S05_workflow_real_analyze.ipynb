{
 "cells": [
  {
   "cell_type": "code",
   "execution_count": null,
   "id": "cae34f22",
   "metadata": {},
   "outputs": [],
   "source": [
    "# Enabling auto reload modules\n",
    "%load_ext autoreload\n",
    "%autoreload 2"
   ]
  },
  {
   "cell_type": "code",
   "execution_count": null,
   "id": "a16f68b8",
   "metadata": {},
   "outputs": [],
   "source": [
    "from pprint import pp\n",
    "\n",
    "import pandas as pd\n",
    "\n",
    "# You need to import custom class for loading pickle file to work.\n",
    "from classes_v1 import DataHandler, MyEval, MyUtil, RegSwitcher"
   ]
  },
  {
   "cell_type": "code",
   "execution_count": null,
   "id": "b1cdf2ff",
   "metadata": {},
   "outputs": [],
   "source": [
    "IS_PLOT = False\n",
    "SAVE_PLOT = False"
   ]
  },
  {
   "cell_type": "code",
   "execution_count": null,
   "id": "80adc226",
   "metadata": {},
   "outputs": [],
   "source": [
    "# Search for pkl files\n",
    "from os import listdir\n",
    "from os.path import isfile, join\n",
    "\n",
    "onlyfiles = [f for f in listdir(\".\") if (isfile(join(\".\", f)) and f.endswith(\"pkl\"))]\n",
    "pp(onlyfiles)"
   ]
  },
  {
   "cell_type": "code",
   "execution_count": null,
   "id": "5230884e",
   "metadata": {},
   "outputs": [],
   "source": [
    "filename = \"S04_data_2025-05-16_08-05.pkl\"\n",
    "data_load = MyUtil.load_data(filename=filename)\n",
    "\n",
    "# Print keys\n",
    "pp([k for k in data_load.keys()])\n"
   ]
  },
  {
   "cell_type": "code",
   "execution_count": null,
   "id": "123a1774",
   "metadata": {},
   "outputs": [],
   "source": [
    "dt = MyUtil.get_dt()"
   ]
  },
  {
   "cell_type": "code",
   "execution_count": null,
   "id": "5402e27f",
   "metadata": {},
   "outputs": [],
   "source": [
    "data_handler = data_load[\"data_handler\"]\n",
    "df_fit = data_load[\"df_fit\"]"
   ]
  },
  {
   "cell_type": "code",
   "execution_count": null,
   "id": "4757f361",
   "metadata": {},
   "outputs": [],
   "source": [
    "df_fit"
   ]
  },
  {
   "cell_type": "code",
   "execution_count": null,
   "id": "1782a10d",
   "metadata": {},
   "outputs": [],
   "source": [
    "# Sort the DataFrame by \"rank_test_score\"\n",
    "df_fit = df_fit.sort_values(by=\"rank_test_score\")\n",
    "\n",
    "# Groups the sorted DataFrame by the columns \"id_split\" and \"estimator\".\n",
    "# For each group (unique combination of split and estimator), selects the first row (which, after sorting, is the one with the best rank_test_score).\n",
    "# .reset_index() turns the groupby indices back into columns for a clean DataFrame.\n",
    "df_fit_select = df_fit.groupby([\"id_split\", \"estimator\"]).first().reset_index()\n",
    "\n",
    "display(df_fit_select)"
   ]
  },
  {
   "cell_type": "code",
   "execution_count": null,
   "id": "76b1e55b",
   "metadata": {},
   "outputs": [],
   "source": [
    "# Initialize blank model (optional)\n",
    "reg = RegSwitcher(base=None)\n",
    "\n",
    "\n",
    "df_arr = []\n",
    "for idx, fit in df_fit_select.iterrows():\n",
    "    # pp(fit[\"param_split\"])\n",
    "    # pp(fit[\"params\"])\n",
    "\n",
    "    param_split = fit[\"param_split\"]\n",
    "    data_handler.split_and_scale(**param_split)\n",
    "\n",
    "    X_train, Y_train = data_handler.get_train()\n",
    "    X_test, Y_test = data_handler.get_test()\n",
    "\n",
    "    params = fit[\"params\"]\n",
    "    reg.set_params(**params)\n",
    "\n",
    "    reg.fit(X_train, Y_train)\n",
    "\n",
    "    Y_train_pred = reg.predict(X_train)\n",
    "    Y_test_pred = reg.predict(X_test)\n",
    "\n",
    "    _df = MyEval.eval(\n",
    "        Y_train=Y_train,\n",
    "        Y_train_pred=Y_train_pred,\n",
    "        Y_test=Y_test,\n",
    "        Y_test_pred=Y_test_pred,\n",
    "        id_split=fit[\"id_split\"],\n",
    "        estimator=fit[\"estimator\"],\n",
    "    )\n",
    "    df_arr.append(_df)\n",
    "\n",
    "    if IS_PLOT:\n",
    "        id_split = fit[\"id_split\"]\n",
    "        estimator = fit[\"estimator\"]\n",
    "        MyEval.plot_res(\n",
    "            Y_train=Y_train,\n",
    "            Y_train_pred=Y_train_pred,\n",
    "            Y_test=Y_test,\n",
    "            Y_test_pred=Y_test_pred,\n",
    "            dt=dt,\n",
    "            save=SAVE_PLOT,\n",
    "            file_prefix=f\"S05-{estimator}-{id_split}\",\n",
    "        )\n",
    "\n",
    "df_eval = pd.concat(df_arr).reset_index(drop=True)"
   ]
  },
  {
   "cell_type": "code",
   "execution_count": null,
   "id": "83dd74b3",
   "metadata": {},
   "outputs": [],
   "source": [
    "df_eval"
   ]
  },
  {
   "cell_type": "code",
   "execution_count": null,
   "id": "15213e94",
   "metadata": {},
   "outputs": [],
   "source": [
    "import seaborn as sns\n",
    "\n",
    "sns.boxplot(data=df_eval, x=\"estimator\", y=\"MSE Test\", hue=\"Y\")"
   ]
  },
  {
   "cell_type": "code",
   "execution_count": null,
   "id": "52c70f00",
   "metadata": {},
   "outputs": [],
   "source": [
    "sns.boxplot(data=df_eval, x=\"estimator\", y=\"R2 Test\", hue=\"Y\")"
   ]
  }
 ],
 "metadata": {
  "kernelspec": {
   "display_name": ".venv",
   "language": "python",
   "name": "python3"
  },
  "language_info": {
   "codemirror_mode": {
    "name": "ipython",
    "version": 3
   },
   "file_extension": ".py",
   "mimetype": "text/x-python",
   "name": "python",
   "nbconvert_exporter": "python",
   "pygments_lexer": "ipython3",
   "version": "3.12.10"
  }
 },
 "nbformat": 4,
 "nbformat_minor": 5
}
