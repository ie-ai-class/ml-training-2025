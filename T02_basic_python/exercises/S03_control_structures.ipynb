{
 "cells": [
  {
   "cell_type": "markdown",
   "id": "aea8a2ea",
   "metadata": {},
   "source": [
    "# Control structure"
   ]
  },
  {
   "cell_type": "code",
   "execution_count": 1,
   "id": "c332267f",
   "metadata": {},
   "outputs": [],
   "source": [
    "# If, Elif, Else\n",
    "# Write a program that asks the user for a number and prints whether the number is positive, negative, or zero.\n"
   ]
  },
  {
   "cell_type": "code",
   "execution_count": 2,
   "id": "2ccb0ba9",
   "metadata": {},
   "outputs": [],
   "source": [
    "# For Loop\n",
    "# Write a program that prints all the numbers from 1 to 10 using a for loop.\n"
   ]
  },
  {
   "cell_type": "code",
   "execution_count": 3,
   "id": "c1285a45",
   "metadata": {},
   "outputs": [],
   "source": [
    "# While Loop\n",
    "# Write a program that prints numbers from 5 down to 1 using a while loop.\n"
   ]
  }
 ],
 "metadata": {
  "kernelspec": {
   "display_name": ".venv",
   "language": "python",
   "name": "python3"
  },
  "language_info": {
   "codemirror_mode": {
    "name": "ipython",
    "version": 3
   },
   "file_extension": ".py",
   "mimetype": "text/x-python",
   "name": "python",
   "nbconvert_exporter": "python",
   "pygments_lexer": "ipython3",
   "version": "3.12.10"
  }
 },
 "nbformat": 4,
 "nbformat_minor": 5
}
