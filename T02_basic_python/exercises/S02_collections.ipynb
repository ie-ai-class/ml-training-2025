{
 "cells": [
  {
   "cell_type": "markdown",
   "id": "50577dba",
   "metadata": {},
   "source": [
    "# Collections"
   ]
  },
  {
   "cell_type": "code",
   "execution_count": 1,
   "id": "a18f7a50",
   "metadata": {},
   "outputs": [],
   "source": [
    "# List\n",
    "\n",
    "# Create a list of your favorite fruits\n",
    "\n",
    "\n",
    "# Print the second fruit in the list.\n",
    "\n",
    "\n",
    "# Then add a new fruit to the list and print the updated list.\n"
   ]
  },
  {
   "cell_type": "code",
   "execution_count": 2,
   "id": "16ebd227",
   "metadata": {},
   "outputs": [],
   "source": [
    "# Dictionary\n",
    "\n",
    "# Create a dictionary with three key-value pairs representing a person's name, age, and city.\n",
    "\n",
    "\n",
    "# Print the person's age.\n",
    "\n",
    "\n",
    "# Add a new key-value pair for the person's profession and print the updated dictionary.\n",
    "\n"
   ]
  },
  {
   "cell_type": "code",
   "execution_count": 3,
   "id": "379de4d8",
   "metadata": {},
   "outputs": [],
   "source": [
    "# Exercise 3: Tuple\n",
    "\n",
    "# Create a tuple with three elements representing a book's title, author, and year published.\n",
    "\n",
    "# Print the author's name.\n",
    "\n",
    "# Try to add a new element to the tuple and observe what happens.\n",
    "\n",
    "# Change the year published.\n"
   ]
  }
 ],
 "metadata": {
  "kernelspec": {
   "display_name": ".venv",
   "language": "python",
   "name": "python3"
  },
  "language_info": {
   "codemirror_mode": {
    "name": "ipython",
    "version": 3
   },
   "file_extension": ".py",
   "mimetype": "text/x-python",
   "name": "python",
   "nbconvert_exporter": "python",
   "pygments_lexer": "ipython3",
   "version": "3.12.10"
  }
 },
 "nbformat": 4,
 "nbformat_minor": 5
}
