{
 "cells": [
  {
   "cell_type": "markdown",
   "id": "b99fe929",
   "metadata": {},
   "source": [
    "# Function\n"
   ]
  },
  {
   "cell_type": "code",
   "execution_count": 1,
   "id": "29d6c0cc",
   "metadata": {},
   "outputs": [],
   "source": [
    "# Write a simple Python function named greet that prints \"Hello, World!\"\n",
    "# Instructions:\n",
    "# - Define a function named greet\n",
    "# - The function should print the string \"Hello, World!\"\n",
    "# - Call the function after defining it\n"
   ]
  },
  {
   "cell_type": "code",
   "execution_count": 2,
   "id": "d17b5af6",
   "metadata": {},
   "outputs": [],
   "source": [
    "# Write a Python function named add_numbers that takes two numbers as arguments and returns their sum\n",
    "# Instructions:\n",
    "# - Define a function named add_numbers with two parameters\n",
    "# - The function should return the sum of the two parameters\n",
    "# - Call the function with example arguments and print the result\n"
   ]
  },
  {
   "cell_type": "code",
   "execution_count": 3,
   "id": "6939c124",
   "metadata": {},
   "outputs": [],
   "source": [
    "# Exercise: Write a Python function named describe_pet that takes a pet's name and type as keyword arguments\n",
    "# with default values \"dog\" for pet_type and \"unknown\" for pet_name\n",
    "# Instructions:\n",
    "# - Define a function named describe_pet with keyword arguments pet_name and pet_type\n",
    "# - The function should print a sentence describing the pet, e.g., \"I have a dog named Buddy.\"\n",
    "# - Call the function with different arguments to test default values and keyword arguments\n"
   ]
  }
 ],
 "metadata": {
  "kernelspec": {
   "display_name": ".venv",
   "language": "python",
   "name": "python3"
  },
  "language_info": {
   "codemirror_mode": {
    "name": "ipython",
    "version": 3
   },
   "file_extension": ".py",
   "mimetype": "text/x-python",
   "name": "python",
   "nbconvert_exporter": "python",
   "pygments_lexer": "ipython3",
   "version": "3.12.10"
  }
 },
 "nbformat": 4,
 "nbformat_minor": 5
}
