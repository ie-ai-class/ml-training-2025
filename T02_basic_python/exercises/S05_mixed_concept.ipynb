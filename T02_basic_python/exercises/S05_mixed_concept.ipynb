{
 "cells": [
  {
   "cell_type": "markdown",
   "id": "9e39b191",
   "metadata": {},
   "source": [
    "# Mixed concept\n",
    "You are given a list of tuples, where each tuple contains information about a student: `(student_id, name, grades)`. The grades is a dictionary with subject names as keys and scores as values.\n"
   ]
  },
  {
   "cell_type": "code",
   "execution_count": 1,
   "id": "ebba17d1",
   "metadata": {},
   "outputs": [],
   "source": [
    "students = [\n",
    "    (1, \"Alice\", {\"Math\": 85, \"English\": 78, \"Science\": 92}),\n",
    "    (2, \"Bob\", {\"Math\": 90, \"English\": 88, \"Science\": 75}),\n",
    "    (3, \"Charlie\", {\"Math\": 70, \"English\": 95, \"Science\": 80}),\n",
    "    (4, \"David\", {\"Math\": 88, \"English\": 72, \"Science\": 85}),\n",
    "    (5, \"Eva\", {\"Math\": 65, \"English\": 92, \"Science\": 78}),\n",
    "    (6, \"Frank\", {\"Math\": 98, \"English\": 68, \"Science\": 90}),\n",
    "    (7, \"Grace\", {\"Math\": 72, \"English\": 85, \"Science\": 88}),\n",
    "    (8, \"Henry\", {\"Math\": 83, \"English\": 79, \"Science\": 82}),\n",
    "    (9, \"Ivy\", {\"Math\": 91, \"English\": 94, \"Science\": 89}),\n",
    "    (10, \"Jack\", {\"Math\": 60, \"English\": 81, \"Science\": 75}),\n",
    "    (11, \"Kara\", {\"Math\": 78, \"English\": 77, \"Science\": 80}),\n",
    "    (12, \"Leo\", {\"Math\": 85, \"English\": 90, \"Science\": 87}),\n",
    "    (13, \"Mia\", {\"Math\": 92, \"English\": 85, \"Science\": 93}),\n",
    "    (14, \"Noah\", {\"Math\": 75, \"English\": 80, \"Science\": 78}),\n",
    "    (15, \"Olivia\", {\"Math\": 80, \"English\": 88, \"Science\": 84}),\n",
    "    (16, \"Paul\", {\"Math\": 68, \"English\": 72, \"Science\": 70}),\n",
    "    (17, \"Quinn\", {\"Math\": 89, \"English\": 91, \"Science\": 86}),\n",
    "    (18, \"Rachel\", {\"Math\": 94, \"English\": 82, \"Science\": 99}),\n",
    "    (19, \"Sam\", {\"Math\": 77, \"English\": 73, \"Science\": 79}),\n",
    "    (20, \"Tina\", {\"Math\": 81, \"English\": 89, \"Science\": 83}),\n",
    "]\n"
   ]
  },
  {
   "cell_type": "code",
   "execution_count": 2,
   "id": "9f325d9e",
   "metadata": {},
   "outputs": [],
   "source": [
    "# Write a function `average_grade(student)` that takes a student tuple and returns the average grade across all subjects.\n",
    "# Print all average grades\n"
   ]
  },
  {
   "cell_type": "code",
   "execution_count": 3,
   "id": "43da37a8",
   "metadata": {},
   "outputs": [],
   "source": [
    "# Create a list of tuples `(student_id, name, average_grade)` for all students.\n"
   ]
  },
  {
   "cell_type": "code",
   "execution_count": 4,
   "id": "d5fe168f",
   "metadata": {},
   "outputs": [],
   "source": [
    "# Find and print the name of the student with the highest average grade.\n"
   ]
  },
  {
   "cell_type": "code",
   "execution_count": 5,
   "id": "98b360e6",
   "metadata": {},
   "outputs": [],
   "source": [
    "# Create a dictionary that maps each subject to the highest score achieved in that subject among all students.\n"
   ]
  }
 ],
 "metadata": {
  "kernelspec": {
   "display_name": ".venv",
   "language": "python",
   "name": "python3"
  },
  "language_info": {
   "codemirror_mode": {
    "name": "ipython",
    "version": 3
   },
   "file_extension": ".py",
   "mimetype": "text/x-python",
   "name": "python",
   "nbconvert_exporter": "python",
   "pygments_lexer": "ipython3",
   "version": "3.12.10"
  }
 },
 "nbformat": 4,
 "nbformat_minor": 5
}
