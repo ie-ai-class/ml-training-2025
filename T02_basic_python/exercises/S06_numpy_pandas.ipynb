{
 "cells": [
  {
   "cell_type": "markdown",
   "id": "6e0cbcb8",
   "metadata": {},
   "source": [
    "# Numpy\n"
   ]
  },
  {
   "cell_type": "code",
   "execution_count": 1,
   "id": "1e1548d8",
   "metadata": {},
   "outputs": [],
   "source": [
    "# Import the numpy library as np\n"
   ]
  },
  {
   "cell_type": "code",
   "execution_count": 2,
   "id": "79859fd6",
   "metadata": {},
   "outputs": [],
   "source": [
    "# Create a numpy array with the elements [1, 2, 3, 4, 5]\n"
   ]
  },
  {
   "cell_type": "code",
   "execution_count": 3,
   "id": "25435c2c",
   "metadata": {},
   "outputs": [],
   "source": [
    "# Create a numpy array with the elements 1 to 100.\n"
   ]
  },
  {
   "cell_type": "code",
   "execution_count": 4,
   "id": "4c8cef67",
   "metadata": {},
   "outputs": [],
   "source": [
    "# Print the shape of the array from the previous step\n"
   ]
  },
  {
   "cell_type": "code",
   "execution_count": 5,
   "id": "827730ae",
   "metadata": {},
   "outputs": [],
   "source": [
    "# Create a 2x2 numpy array with elements\n",
    "# |1, 2|\n",
    "# |3, 4|\n"
   ]
  },
  {
   "cell_type": "code",
   "execution_count": 6,
   "id": "5d13f84f",
   "metadata": {},
   "outputs": [],
   "source": [
    "# Calculate the sum of all elements in the 2x2 array\n"
   ]
  },
  {
   "cell_type": "code",
   "execution_count": 7,
   "id": "6b00f12a",
   "metadata": {},
   "outputs": [],
   "source": [
    "# Calculate the mean of the elements in the 2x2 array\n"
   ]
  },
  {
   "cell_type": "code",
   "execution_count": 8,
   "id": "5411952a",
   "metadata": {},
   "outputs": [],
   "source": [
    "# Reshape the 2x2 array to a 1x4 array and print it\n"
   ]
  },
  {
   "cell_type": "markdown",
   "id": "eea06962",
   "metadata": {},
   "source": [
    "# Pandas\n"
   ]
  },
  {
   "cell_type": "code",
   "execution_count": 9,
   "id": "bf9fc89e",
   "metadata": {},
   "outputs": [],
   "source": [
    "# Import the pandas library as pd\n"
   ]
  },
  {
   "cell_type": "code",
   "execution_count": 10,
   "id": "c7441f55",
   "metadata": {},
   "outputs": [],
   "source": [
    "# Create a pandas DataFrame from the following dictionary:\n",
    "data = {\n",
    "    \"Name\": [\"Alice\", \"Bob\", \"Charlie\", \"David\"],\n",
    "    \"Age\": [23, 25, 30, 22],\n",
    "    \"Score\": [85, 90, 88, 95],\n",
    "}\n"
   ]
  },
  {
   "cell_type": "code",
   "execution_count": 11,
   "id": "ebcc2096",
   "metadata": {},
   "outputs": [],
   "source": [
    "# Print the first 2 rows of the DataFrame\n"
   ]
  },
  {
   "cell_type": "code",
   "execution_count": 12,
   "id": "a282ebd4",
   "metadata": {},
   "outputs": [],
   "source": [
    "# Print the column names of the DataFrame\n"
   ]
  },
  {
   "cell_type": "code",
   "execution_count": 13,
   "id": "ec575912",
   "metadata": {},
   "outputs": [],
   "source": [
    "# Add a new column called 'Passed' that is True if the 'Score' is greater than or equal to 90, otherwise False\n"
   ]
  },
  {
   "cell_type": "code",
   "execution_count": 14,
   "id": "c8340df1",
   "metadata": {},
   "outputs": [],
   "source": [
    "# Calculate and print the average age of the students\n"
   ]
  }
 ],
 "metadata": {
  "kernelspec": {
   "display_name": ".venv",
   "language": "python",
   "name": "python3"
  },
  "language_info": {
   "codemirror_mode": {
    "name": "ipython",
    "version": 3
   },
   "file_extension": ".py",
   "mimetype": "text/x-python",
   "name": "python",
   "nbconvert_exporter": "python",
   "pygments_lexer": "ipython3",
   "version": "3.12.10"
  }
 },
 "nbformat": 4,
 "nbformat_minor": 5
}
