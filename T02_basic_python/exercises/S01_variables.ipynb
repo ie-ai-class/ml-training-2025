{
 "cells": [
  {
   "cell_type": "markdown",
   "id": "2d68debd",
   "metadata": {},
   "source": [
    "# Variables\n"
   ]
  },
  {
   "cell_type": "code",
   "execution_count": 1,
   "id": "1a84294f",
   "metadata": {},
   "outputs": [],
   "source": [
    "# Declare your age as integer variable.  Verify the type with \"type\" function.\n"
   ]
  },
  {
   "cell_type": "code",
   "execution_count": 2,
   "id": "fb67ef3f",
   "metadata": {},
   "outputs": [],
   "source": [
    "# Declare your height as a float variable. Verify the type with \"type\" function.\n"
   ]
  },
  {
   "cell_type": "code",
   "execution_count": 3,
   "id": "5e333ba0",
   "metadata": {},
   "outputs": [],
   "source": [
    "# Declare your name as a string variable. Verify the type with \"type\" function.\n"
   ]
  },
  {
   "cell_type": "markdown",
   "id": "e5e9784b",
   "metadata": {},
   "source": [
    "$$slope = \\frac{(y_2 - y_1)} { (x_2 - x_1)}$$\n",
    "$$distance = \\sqrt{(x_2 - x_1)^2 + (y_2 - y_1)^2}$$\n"
   ]
  },
  {
   "cell_type": "code",
   "execution_count": 4,
   "id": "e964db41",
   "metadata": {},
   "outputs": [],
   "source": [
    "# Calculate slope and distance between points (2, 2) and (6, 10)\n"
   ]
  },
  {
   "cell_type": "code",
   "execution_count": 5,
   "id": "f1936bbe",
   "metadata": {},
   "outputs": [],
   "source": [
    "# Perform floor division of 7 and 3\n"
   ]
  },
  {
   "cell_type": "code",
   "execution_count": 6,
   "id": "fb171cb6",
   "metadata": {},
   "outputs": [],
   "source": [
    "# Check if a number is even\n"
   ]
  },
  {
   "cell_type": "code",
   "execution_count": 7,
   "id": "edc217dd",
   "metadata": {},
   "outputs": [],
   "source": [
    "# Check if the length of strings 'python' and 'dragon' are equal\n",
    "\n"
   ]
  },
  {
   "cell_type": "code",
   "execution_count": 8,
   "id": "2c95e76b",
   "metadata": {},
   "outputs": [],
   "source": [
    "# Compare the value of string and number\n"
   ]
  },
  {
   "cell_type": "code",
   "execution_count": null,
   "id": "8cbe2331",
   "metadata": {},
   "outputs": [],
   "source": [
    "# Check if 'jargon' is in the sentence\n"
   ]
  },
  {
   "cell_type": "code",
   "execution_count": 10,
   "id": "82f82a65",
   "metadata": {},
   "outputs": [],
   "source": [
    "# String indices\n",
    "letters = \"ABCDEFGHIJKLMNOPQRSTUVWXYZ\"\n",
    "\n",
    "# Print B\n",
    "\n",
    "\n",
    "# Print BCD\n",
    "\n",
    "\n",
    "# Print the XY\n",
    "\n",
    "\n",
    "# Print all letters from beginning to the 15th letter (O)\n",
    "\n",
    "\n",
    "# Print the 5th letter (E) to the end\n"
   ]
  }
 ],
 "metadata": {
  "kernelspec": {
   "display_name": ".venv",
   "language": "python",
   "name": "python3"
  },
  "language_info": {
   "codemirror_mode": {
    "name": "ipython",
    "version": 3
   },
   "file_extension": ".py",
   "mimetype": "text/x-python",
   "name": "python",
   "nbconvert_exporter": "python",
   "pygments_lexer": "ipython3",
   "version": "3.12.10"
  }
 },
 "nbformat": 4,
 "nbformat_minor": 5
}
