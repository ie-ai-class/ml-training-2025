{
 "cells": [
  {
   "cell_type": "markdown",
   "id": "50577dba",
   "metadata": {},
   "source": [
    "# Collections"
   ]
  },
  {
   "cell_type": "code",
   "execution_count": null,
   "id": "a18f7a50",
   "metadata": {},
   "outputs": [
    {
     "name": "stdout",
     "output_type": "stream",
     "text": [
      "banana\n",
      "['apple', 'banana', 'cherry', 'orange']\n"
     ]
    }
   ],
   "source": [
    "# List\n",
    "\n",
    "# Create a list of your favorite fruits\n",
    "fruits = [\"apple\", \"banana\", \"cherry\"]\n",
    "\n",
    "# Print the second fruit in the list.\n",
    "print(fruits[1])\n",
    "\n",
    "# Then add a new fruit to the list and print the updated list.\n",
    "fruits.append(\"orange\")\n",
    "print(fruits)"
   ]
  },
  {
   "cell_type": "code",
   "execution_count": null,
   "id": "16ebd227",
   "metadata": {},
   "outputs": [
    {
     "name": "stdout",
     "output_type": "stream",
     "text": [
      "30\n",
      "{'name': 'Alice', 'age': 30, 'city': 'New York', 'profession': 'Engineer'}\n"
     ]
    }
   ],
   "source": [
    "# Dictionary\n",
    "\n",
    "# Create a dictionary with three key-value pairs representing a person's name, age, and city.\n",
    "person = {\"name\": \"Alice\", \"age\": 30, \"city\": \"New York\"}\n",
    "\n",
    "# Print the person's age.\n",
    "print(person[\"age\"])\n",
    "\n",
    "# Add a new key-value pair for the person's profession and print the updated dictionary.\n",
    "person[\"profession\"] = \"Engineer\"\n",
    "print(person)\n"
   ]
  },
  {
   "cell_type": "code",
   "execution_count": null,
   "id": "379de4d8",
   "metadata": {},
   "outputs": [
    {
     "name": "stdout",
     "output_type": "stream",
     "text": [
      "('The Great Gatsby', 'F. Scott Fitzgerald', 1925)\n",
      "F. Scott Fitzgerald\n",
      "('The Great Gatsby', 'F. Scott Fitzgerald', 1930)\n"
     ]
    }
   ],
   "source": [
    "# Exercise 3: Tuple\n",
    "\n",
    "# Create a tuple with three elements representing a book's title, author, and year published.\n",
    "book = (\"The Great Gatsby\", \"F. Scott Fitzgerald\", 1925)\n",
    "print(book)\n",
    "\n",
    "# Print the author's name.\n",
    "print(book[1])\n",
    "\n",
    "# Try to add a new element to the tuple and observe what happens.\n",
    "# book.append('New Element') # This will raise an AttributeError because tuples are immutable\n",
    "\n",
    "# Change the year published.\n",
    "book = (*book[:2], 1930)\n",
    "print(book)"
   ]
  }
 ],
 "metadata": {
  "kernelspec": {
   "display_name": ".venv",
   "language": "python",
   "name": "python3"
  },
  "language_info": {
   "codemirror_mode": {
    "name": "ipython",
    "version": 3
   },
   "file_extension": ".py",
   "mimetype": "text/x-python",
   "name": "python",
   "nbconvert_exporter": "python",
   "pygments_lexer": "ipython3",
   "version": "3.12.10"
  }
 },
 "nbformat": 4,
 "nbformat_minor": 5
}
