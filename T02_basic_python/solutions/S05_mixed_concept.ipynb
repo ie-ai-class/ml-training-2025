{
 "cells": [
  {
   "cell_type": "markdown",
   "id": "9e39b191",
   "metadata": {},
   "source": [
    "# Mixed concept\n",
    "You are given a list of tuples, where each tuple contains information about a student: `(student_id, name, grades)`. The grades is a dictionary with subject names as keys and scores as values.\n"
   ]
  },
  {
   "cell_type": "code",
   "execution_count": 1,
   "id": "ebba17d1",
   "metadata": {},
   "outputs": [],
   "source": [
    "students = [\n",
    "    (1, \"Alice\", {\"Math\": 85, \"English\": 78, \"Science\": 92}),\n",
    "    (2, \"Bob\", {\"Math\": 90, \"English\": 88, \"Science\": 75}),\n",
    "    (3, \"Charlie\", {\"Math\": 70, \"English\": 95, \"Science\": 80}),\n",
    "    (4, \"David\", {\"Math\": 88, \"English\": 72, \"Science\": 85}),\n",
    "    (5, \"Eva\", {\"Math\": 65, \"English\": 92, \"Science\": 78}),\n",
    "    (6, \"Frank\", {\"Math\": 98, \"English\": 68, \"Science\": 90}),\n",
    "    (7, \"Grace\", {\"Math\": 72, \"English\": 85, \"Science\": 88}),\n",
    "    (8, \"Henry\", {\"Math\": 83, \"English\": 79, \"Science\": 82}),\n",
    "    (9, \"Ivy\", {\"Math\": 91, \"English\": 94, \"Science\": 89}),\n",
    "    (10, \"Jack\", {\"Math\": 60, \"English\": 81, \"Science\": 75}),\n",
    "    (11, \"Kara\", {\"Math\": 78, \"English\": 77, \"Science\": 80}),\n",
    "    (12, \"Leo\", {\"Math\": 85, \"English\": 90, \"Science\": 87}),\n",
    "    (13, \"Mia\", {\"Math\": 92, \"English\": 85, \"Science\": 93}),\n",
    "    (14, \"Noah\", {\"Math\": 75, \"English\": 80, \"Science\": 78}),\n",
    "    (15, \"Olivia\", {\"Math\": 80, \"English\": 88, \"Science\": 84}),\n",
    "    (16, \"Paul\", {\"Math\": 68, \"English\": 72, \"Science\": 70}),\n",
    "    (17, \"Quinn\", {\"Math\": 89, \"English\": 91, \"Science\": 86}),\n",
    "    (18, \"Rachel\", {\"Math\": 94, \"English\": 82, \"Science\": 99}),\n",
    "    (19, \"Sam\", {\"Math\": 77, \"English\": 73, \"Science\": 79}),\n",
    "    (20, \"Tina\", {\"Math\": 81, \"English\": 89, \"Science\": 83}),\n",
    "]\n"
   ]
  },
  {
   "cell_type": "code",
   "execution_count": 2,
   "id": "9f325d9e",
   "metadata": {},
   "outputs": [
    {
     "name": "stdout",
     "output_type": "stream",
     "text": [
      "85.0\n",
      "84.33333333333333\n",
      "81.66666666666667\n",
      "81.66666666666667\n",
      "78.33333333333333\n",
      "85.33333333333333\n",
      "81.66666666666667\n",
      "81.33333333333333\n",
      "91.33333333333333\n",
      "72.0\n",
      "78.33333333333333\n",
      "87.33333333333333\n",
      "90.0\n",
      "77.66666666666667\n",
      "84.0\n",
      "70.0\n",
      "88.66666666666667\n",
      "91.66666666666667\n",
      "76.33333333333333\n",
      "84.33333333333333\n"
     ]
    }
   ],
   "source": [
    "# Write a function `average_grade(student)` that takes a student tuple and returns the average grade across all subjects.\n",
    "# Print all average grades\n",
    "\n",
    "\n",
    "def average_grade(s):\n",
    "    grades = s[2]\n",
    "    sum_score = 0\n",
    "    for _, v in grades.items():\n",
    "        sum_score += v\n",
    "    avg = sum_score / len(grades)\n",
    "    return avg\n",
    "\n",
    "\n",
    "for s in students:\n",
    "    print(average_grade(s))"
   ]
  },
  {
   "cell_type": "code",
   "execution_count": 3,
   "id": "43da37a8",
   "metadata": {},
   "outputs": [
    {
     "name": "stdout",
     "output_type": "stream",
     "text": [
      "(1, 'Alice', 85.0)\n",
      "(2, 'Bob', 84.33333333333333)\n",
      "(3, 'Charlie', 81.66666666666667)\n",
      "(4, 'David', 81.66666666666667)\n",
      "(5, 'Eva', 78.33333333333333)\n",
      "(6, 'Frank', 85.33333333333333)\n",
      "(7, 'Grace', 81.66666666666667)\n",
      "(8, 'Henry', 81.33333333333333)\n",
      "(9, 'Ivy', 91.33333333333333)\n",
      "(10, 'Jack', 72.0)\n",
      "(11, 'Kara', 78.33333333333333)\n",
      "(12, 'Leo', 87.33333333333333)\n",
      "(13, 'Mia', 90.0)\n",
      "(14, 'Noah', 77.66666666666667)\n",
      "(15, 'Olivia', 84.0)\n",
      "(16, 'Paul', 70.0)\n",
      "(17, 'Quinn', 88.66666666666667)\n",
      "(18, 'Rachel', 91.66666666666667)\n",
      "(19, 'Sam', 76.33333333333333)\n",
      "(20, 'Tina', 84.33333333333333)\n"
     ]
    }
   ],
   "source": [
    "# Create a list of tuples `(student_id, name, average_grade)` for all students.\n",
    "students_avg = []\n",
    "for s in students:\n",
    "    data = (s[0], s[1], average_grade(s))\n",
    "    students_avg.append(data)\n",
    "\n",
    "for s in students_avg:\n",
    "    print(s)"
   ]
  },
  {
   "cell_type": "code",
   "execution_count": 4,
   "id": "d5fe168f",
   "metadata": {},
   "outputs": [
    {
     "name": "stdout",
     "output_type": "stream",
     "text": [
      "Top student: Rachel with average grade 91.66666666666667\n"
     ]
    }
   ],
   "source": [
    "# Find and print the name of the student with the highest average grade.\n",
    "\n",
    "avg_grade_max = 0\n",
    "idx_max = 0\n",
    "for idx, s in enumerate(students_avg):\n",
    "    avg_grade = s[2]\n",
    "    if avg_grade > avg_grade_max:\n",
    "        idx_max = idx\n",
    "        avg_grade_max = avg_grade\n",
    "\n",
    "student_max = students_avg[idx_max]\n",
    "print(f\"Top student: {student_max[1]} with average grade {student_max[2]}\")"
   ]
  },
  {
   "cell_type": "code",
   "execution_count": 5,
   "id": "98b360e6",
   "metadata": {},
   "outputs": [
    {
     "name": "stdout",
     "output_type": "stream",
     "text": [
      "Highest scores per subject:\n",
      "{'Math': 98, 'English': 95, 'Science': 99}\n"
     ]
    }
   ],
   "source": [
    "# Create a dictionary that maps each subject to the highest score achieved in that subject among all students.\n",
    "\n",
    "subjects = students[0][2].keys()\n",
    "highest_scores = {}\n",
    "\n",
    "for subject in subjects:\n",
    "    score_list = []\n",
    "    for s in students:\n",
    "        score_list.append(s[2][subject])\n",
    "    highest_scores[subject] = max(score_list)\n",
    "\n",
    "print(\"Highest scores per subject:\")\n",
    "print(highest_scores)"
   ]
  }
 ],
 "metadata": {
  "kernelspec": {
   "display_name": ".venv",
   "language": "python",
   "name": "python3"
  },
  "language_info": {
   "codemirror_mode": {
    "name": "ipython",
    "version": 3
   },
   "file_extension": ".py",
   "mimetype": "text/x-python",
   "name": "python",
   "nbconvert_exporter": "python",
   "pygments_lexer": "ipython3",
   "version": "3.12.10"
  }
 },
 "nbformat": 4,
 "nbformat_minor": 5
}
