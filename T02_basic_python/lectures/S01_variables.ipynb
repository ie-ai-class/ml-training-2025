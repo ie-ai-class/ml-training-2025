{
 "cells": [
  {
   "cell_type": "markdown",
   "id": "2d68debd",
   "metadata": {},
   "source": [
    "# Variables\n"
   ]
  },
  {
   "cell_type": "code",
   "execution_count": 5,
   "id": "1a84294f",
   "metadata": {},
   "outputs": [
    {
     "data": {
      "text/plain": [
       "int"
      ]
     },
     "execution_count": 5,
     "metadata": {},
     "output_type": "execute_result"
    }
   ],
   "source": [
    "# Declare your age as integer variable.  Verify the type with \"type\" function.\n",
    "c = 42\n",
    "type(c)"
   ]
  },
  {
   "cell_type": "code",
   "execution_count": 9,
   "id": "fb67ef3f",
   "metadata": {},
   "outputs": [
    {
     "data": {
      "text/plain": [
       "float"
      ]
     },
     "execution_count": 9,
     "metadata": {},
     "output_type": "execute_result"
    }
   ],
   "source": [
    "# Declare your height as a float variable. Verify the type with \"type\" function.\n",
    "height = 172.0\n",
    "type(height)"
   ]
  },
  {
   "cell_type": "code",
   "execution_count": 11,
   "id": "5e333ba0",
   "metadata": {},
   "outputs": [
    {
     "data": {
      "text/plain": [
       "str"
      ]
     },
     "execution_count": 11,
     "metadata": {},
     "output_type": "execute_result"
    }
   ],
   "source": [
    "# Declare your name as a string variable. Verify the type with \"type\" function.\n",
    "myName = \"Nirand\"\n",
    "myName = 'Nirand'\n",
    "type(myName)"
   ]
  },
  {
   "cell_type": "markdown",
   "id": "e5e9784b",
   "metadata": {},
   "source": [
    "$$slope = \\frac{(y_2 - y_1)} { (x_2 - x_1)}$$\n",
    "$$distance = \\sqrt{(x_2 - x_1)^2 + (y_2 - y_1)^2}$$\n"
   ]
  },
  {
   "cell_type": "code",
   "execution_count": 13,
   "id": "e964db41",
   "metadata": {},
   "outputs": [],
   "source": [
    "# Calculate slope and distance between points (2, 2) and (6, 10)\n",
    "slope = (10-2) / (6-2)\n",
    "distance = ((6-2)**2 + (10-2)**2)**(1/2)\n"
   ]
  },
  {
   "cell_type": "code",
   "execution_count": 14,
   "id": "f1936bbe",
   "metadata": {},
   "outputs": [
    {
     "data": {
      "text/plain": [
       "2"
      ]
     },
     "execution_count": 14,
     "metadata": {},
     "output_type": "execute_result"
    }
   ],
   "source": [
    "# Perform floor division of 7 and 3\n",
    "7//3"
   ]
  },
  {
   "cell_type": "code",
   "execution_count": 19,
   "id": "fb171cb6",
   "metadata": {},
   "outputs": [
    {
     "data": {
      "text/plain": [
       "False"
      ]
     },
     "execution_count": 19,
     "metadata": {},
     "output_type": "execute_result"
    }
   ],
   "source": [
    "# Check if a number is even\n",
    "number = 5\n",
    "number % 2 == 0"
   ]
  },
  {
   "cell_type": "code",
   "execution_count": 22,
   "id": "edc217dd",
   "metadata": {},
   "outputs": [
    {
     "data": {
      "text/plain": [
       "True"
      ]
     },
     "execution_count": 22,
     "metadata": {},
     "output_type": "execute_result"
    }
   ],
   "source": [
    "# Check if the length of strings 'python' and 'dragon' are equal\n",
    "len('python') == len(\"dragon\")"
   ]
  },
  {
   "cell_type": "code",
   "execution_count": null,
   "id": "2c95e76b",
   "metadata": {},
   "outputs": [
    {
     "data": {
      "text/plain": [
       "True"
      ]
     },
     "execution_count": 25,
     "metadata": {},
     "output_type": "execute_result"
    }
   ],
   "source": [
    "# Compare the value of string and number\n",
    "int(\"1\") == 1\n",
    "\"1\" == str(1)\n",
    "\"1\" == 1.0"
   ]
  },
  {
   "cell_type": "code",
   "execution_count": 31,
   "id": "8cbe2331",
   "metadata": {},
   "outputs": [
    {
     "data": {
      "text/plain": [
       "True"
      ]
     },
     "execution_count": 31,
     "metadata": {},
     "output_type": "execute_result"
    }
   ],
   "source": [
    "# Check if 'jargon' is in the sentence\n",
    "sentence = \"I hope this course is not full of jargon\"\n",
    "\n",
    "\"jargon\" in sentence"
   ]
  },
  {
   "cell_type": "code",
   "execution_count": 43,
   "id": "82f82a65",
   "metadata": {},
   "outputs": [
    {
     "data": {
      "text/plain": [
       "'EFGHIJKLMNOPQRSTUVWXYZ'"
      ]
     },
     "execution_count": 43,
     "metadata": {},
     "output_type": "execute_result"
    }
   ],
   "source": [
    "# String indices\n",
    "letters = \"ABCDEFGHIJKLMNOPQRSTUVWXYZ\"\n",
    "\n",
    "# Print B\n",
    "letters[1]\n",
    "\n",
    "# Print BCD\n",
    "letters[1:4]\n",
    "\n",
    "# Print the XY\n",
    "letters[-3:-1]\n",
    "\n",
    "# Print all letters from beginning to the 15th letter (O)\n",
    "letters[:15]\n",
    "\n",
    "# Print the 5th letter (E) to the end\n",
    "letters[4:]\n"
   ]
  }
 ],
 "metadata": {
  "kernelspec": {
   "display_name": ".venv",
   "language": "python",
   "name": "python3"
  },
  "language_info": {
   "codemirror_mode": {
    "name": "ipython",
    "version": 3
   },
   "file_extension": ".py",
   "mimetype": "text/x-python",
   "name": "python",
   "nbconvert_exporter": "python",
   "pygments_lexer": "ipython3",
   "version": "3.12.10"
  }
 },
 "nbformat": 4,
 "nbformat_minor": 5
}
