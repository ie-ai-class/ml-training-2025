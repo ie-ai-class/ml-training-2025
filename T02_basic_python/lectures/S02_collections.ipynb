{
 "cells": [
  {
   "cell_type": "markdown",
   "id": "50577dba",
   "metadata": {},
   "source": [
    "# Collections\n"
   ]
  },
  {
   "cell_type": "code",
   "execution_count": 6,
   "id": "a18f7a50",
   "metadata": {},
   "outputs": [],
   "source": [
    "# List\n",
    "\n",
    "# Create a list of your favorite fruits\n",
    "a = [\"mango\", \"banana\"]\n",
    "\n",
    "# Print the second fruit in the list.\n",
    "a[1]\n",
    "\n",
    "# Then add a new fruit to the list and print the updated list.\n",
    "a.append(\"organge\")"
   ]
  },
  {
   "cell_type": "code",
   "execution_count": null,
   "id": "16ebd227",
   "metadata": {},
   "outputs": [
    {
     "name": "stdout",
     "output_type": "stream",
     "text": [
      "{'name': 'Nirand', 'age': 43, 'city': 'Chaing Mai', 'profession': 'teacher'}\n"
     ]
    }
   ],
   "source": [
    "# Dictionary\n",
    "\n",
    "# Create a dictionary with three key-value pairs representing a person's name, age, and city.\n",
    "b = {\n",
    "    \"name\": \"Nirand\",\n",
    "    \"age\": 43,\n",
    "    \"city\": \"Chaing Mai\",\n",
    "}\n",
    "\n",
    "# Print the person's age.\n",
    "b[\"age\"]\n",
    "\n",
    "# Add a new key-value pair for the person's profession and print the updated dictionary.\n",
    "# b = {\"profession\": \"teacher\", **b}\n",
    "b[\"profession\"] = \"teacher\"\n",
    "print(b)\n",
    "\n"
   ]
  },
  {
   "cell_type": "code",
   "execution_count": null,
   "id": "379de4d8",
   "metadata": {},
   "outputs": [],
   "source": [
    "# Exercise 3: Tuple\n",
    "\n",
    "# Create a tuple with three elements representing a book's title, author, and year published.\n",
    "c = (\"Naruto\", \"Some Dudue\", 1980)\n",
    "\n",
    "# Print the author's name.\n",
    "c[1]\n",
    "\n",
    "# Try to add a new element to the tuple and observe what happens.\n",
    "# c[0] = \"Cannot change\"\n",
    "# c[3] = \"Cannot add\"\n",
    "\n",
    "# Change the year published.\n",
    "c = (\"Naruto\", \"Some Dudue\", 1990)\n"
   ]
  },
  {
   "cell_type": "code",
   "execution_count": null,
   "id": "b075dbeb",
   "metadata": {},
   "outputs": [],
   "source": []
  }
 ],
 "metadata": {
  "kernelspec": {
   "display_name": ".venv",
   "language": "python",
   "name": "python3"
  },
  "language_info": {
   "codemirror_mode": {
    "name": "ipython",
    "version": 3
   },
   "file_extension": ".py",
   "mimetype": "text/x-python",
   "name": "python",
   "nbconvert_exporter": "python",
   "pygments_lexer": "ipython3",
   "version": "3.12.10"
  }
 },
 "nbformat": 4,
 "nbformat_minor": 5
}
