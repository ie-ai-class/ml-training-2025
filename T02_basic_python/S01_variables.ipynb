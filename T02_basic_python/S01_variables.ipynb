{
 "cells": [
  {
   "cell_type": "markdown",
   "id": "2d68debd",
   "metadata": {},
   "source": [
    "# Variables"
   ]
  },
  {
   "cell_type": "code",
   "execution_count": 27,
   "id": "1a84294f",
   "metadata": {},
   "outputs": [
    {
     "name": "stdout",
     "output_type": "stream",
     "text": [
      "<class 'int'>\n"
     ]
    }
   ],
   "source": [
    "# Declare your age as integer variable.  Verify the type with \"type\" function.\n",
    "age_int = 25\n",
    "print(type(age_int))"
   ]
  },
  {
   "cell_type": "code",
   "execution_count": 28,
   "id": "fb67ef3f",
   "metadata": {},
   "outputs": [
    {
     "name": "stdout",
     "output_type": "stream",
     "text": [
      "<class 'float'>\n"
     ]
    }
   ],
   "source": [
    "# Declare your height as a float variable. Verify the type with \"type\" function.\n",
    "height = 170.2\n",
    "print(type(height))"
   ]
  },
  {
   "cell_type": "code",
   "execution_count": 29,
   "id": "5e333ba0",
   "metadata": {},
   "outputs": [
    {
     "name": "stdout",
     "output_type": "stream",
     "text": [
      "<class 'str'>\n"
     ]
    }
   ],
   "source": [
    "# Declare your name as a string variable. Verify the type with \"type\" function.\n",
    "name = \"Tom Cruise\"\n",
    "print(type(name))"
   ]
  },
  {
   "cell_type": "markdown",
   "id": "e5e9784b",
   "metadata": {},
   "source": [
    "$$slope = \\frac{(y_2 - y_1)} { (x_2 - x_1)}$$\n",
    "$$distance = \\sqrt{(x_2 - x_1)^2 + (y_2 - y_1)^2}$$\n"
   ]
  },
  {
   "cell_type": "code",
   "execution_count": 30,
   "id": "e964db41",
   "metadata": {},
   "outputs": [],
   "source": [
    "# Calculate slope and distance between points (2, 2) and (6, 10)\n",
    "x1, y1 = 2, 2\n",
    "x2, y2 = 6, 10\n",
    "slope = (y2 - y1) / (x2 - x1)\n",
    "distance = ((x2 - x1) ** 2 + (y2 - y1) ** 2) ** 0.5"
   ]
  },
  {
   "cell_type": "code",
   "execution_count": null,
   "id": "f1936bbe",
   "metadata": {},
   "outputs": [],
   "source": [
    "# Perform floor division of 7 and 3\n",
    "7 // 3"
   ]
  },
  {
   "cell_type": "code",
   "execution_count": null,
   "id": "fb171cb6",
   "metadata": {},
   "outputs": [],
   "source": [
    "# Check if a number is even\n",
    "number = 4\n",
    "is_even = number % 2 == 0"
   ]
  },
  {
   "cell_type": "code",
   "execution_count": 31,
   "id": "edc217dd",
   "metadata": {},
   "outputs": [
    {
     "name": "stdout",
     "output_type": "stream",
     "text": [
      "True\n"
     ]
    }
   ],
   "source": [
    "# Check if the length of strings 'python' and 'dragon' are equal\n",
    "len_python = len(\"python\")\n",
    "len_dragon = len(\"dragon\")\n",
    "comparison = len_python == len_dragon\n",
    "print(comparison)\n"
   ]
  },
  {
   "cell_type": "code",
   "execution_count": 35,
   "id": "2c95e76b",
   "metadata": {},
   "outputs": [
    {
     "data": {
      "text/plain": [
       "True"
      ]
     },
     "execution_count": 35,
     "metadata": {},
     "output_type": "execute_result"
    }
   ],
   "source": [
    "# Compare the value of string and number\n",
    "a = \"9.8\"\n",
    "b = 9.8\n",
    "float(a) == b"
   ]
  },
  {
   "cell_type": "code",
   "execution_count": null,
   "id": "8cbe2331",
   "metadata": {},
   "outputs": [],
   "source": [
    "# Check if 'jargon' is in the sentence\n",
    "sentence = \"I hope this course is not full of jargon\"\n",
    "jargon_in_sentence = \"jargon\" in sentence\n",
    "print(jargon_in_sentence)\n"
   ]
  }
 ],
 "metadata": {
  "kernelspec": {
   "display_name": ".venv",
   "language": "python",
   "name": "python3"
  },
  "language_info": {
   "codemirror_mode": {
    "name": "ipython",
    "version": 3
   },
   "file_extension": ".py",
   "mimetype": "text/x-python",
   "name": "python",
   "nbconvert_exporter": "python",
   "pygments_lexer": "ipython3",
   "version": "3.12.10"
  }
 },
 "nbformat": 4,
 "nbformat_minor": 5
}
